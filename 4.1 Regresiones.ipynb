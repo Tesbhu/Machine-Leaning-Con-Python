{
 "cells": [
  {
   "attachments": {},
   "cell_type": "markdown",
   "metadata": {},
   "source": [
    "# <center> Regresiones Lineales"
   ]
  },
  {
   "attachments": {},
   "cell_type": "markdown",
   "metadata": {},
   "source": [
    "Es un método básico de aprendizaje supervisado utilizado para predecir valores continuos. Ayuda a comprender cómo una variable dependiente está relacionada con una o más variables independientes.\n",
    "\n",
    "## Regresión lineal simple\n",
    "\n",
    "El método de regresión lineal simple presentar en un curso teoríco de **Estadística** como el primer acercamineto a los pronosticos, una vez dominado los temas de **estadística descriptiva** pasamos a la parte de **estadística predictiva** es aquí donde las técnicas del machine learning toman fuerza pues justo queremos ver el futuro (disculpenme si lo redacto así) para ello debemos partir y entender a la perfección el método elemental, el background matemático lo he redactado a detalle en mi repositorio de ESTADISTICA, en este notebook me centrare en como se aplican en el contexto de machine learning, asi que comencemos."
   ]
  },
  {
   "attachments": {},
   "cell_type": "markdown",
   "metadata": {},
   "source": [
    "La regresión lineal es un método de aprendizaje automático supervisado utilizado para predecir una variable de salida continua basada en una o más variables de entrada. El objetivo de la regresión lineal es encontrar la mejor línea recta que se ajuste a los datos y pueda predecir la variable de salida.\n",
    "\n",
    "En la regresión lineal simple, solo hay una variable de entrada (independiente) y una variable de salida (dependiente). Se modela la relación entre estas dos variables mediante una línea recta. El modelo matemático de regresión lineal simple se puede representar como:\n",
    "\n",
    "y = b0 + b1 * x\n",
    "\n",
    "Donde:\n",
    "- y es la variable de salida.\n",
    "- x es la variable de entrada.\n",
    "- b0 es la intersección en y (punto donde la línea intersecta el eje y).\n",
    "- b1 es la pendiente de la línea.\n",
    "\n",
    "La regresión lineal simple no se considera estrictamente una técnica de machine learning porque su enfoque es más analítico y estadístico. No hay un proceso de aprendizaje iterativo con una función de costo y optimización. En cambio, se utiliza un enfoque de mínimos cuadrados para encontrar los coeficientes de la línea que minimicen la suma de los errores cuadráticos entre los valores reales y los valores predichos.\n",
    "\n",
    "Aquí hay un ejemplo básico de cómo implementar una regresión lineal simple en Python utilizando la biblioteca scikit-learn:\n",
    "\n",
    "```python\n",
    "import numpy as np\n",
    "from sklearn.linear_model import LinearRegression\n",
    "\n",
    "# Datos de ejemplo\n",
    "x = np.array([1, 2, 3, 4, 5]).reshape(-1, 1)\n",
    "y = np.array([2, 4, 5, 8, 10])\n",
    "\n",
    "# Crear el modelo de regresión lineal\n",
    "model = LinearRegression()\n",
    "\n",
    "# Ajustar el modelo a los datos\n",
    "model.fit(x, y)\n",
    "\n",
    "# Obtener los coeficientes de la regresión lineal\n",
    "coeficientes = model.coef_\n",
    "interseccion = model.intercept_\n",
    "\n",
    "# Realizar predicciones\n",
    "x_nuevo = np.array([6, 7]).reshape(-1, 1)\n",
    "predicciones = model.predict(x_nuevo)\n",
    "\n",
    "# Medir el error y la bondad del ajuste\n",
    "error_cuadratico_medio = np.mean((model.predict(x) - y) ** 2)\n",
    "coeficiente_r2 = model.score(x, y)\n",
    "\n",
    "print(\"Coeficientes:\", coeficientes)\n",
    "print(\"Intersección:\", interseccion)\n",
    "print(\"Predicciones:\", predicciones)\n",
    "print(\"Error cuadrático medio:\", error_cuadratico_medio)\n",
    "print(\"Coeficiente de determinación (R^2):\", coeficiente_r2)\n",
    "```\n",
    "\n",
    "En este código, se crea un modelo de regresión lineal utilizando la clase `LinearRegression` de scikit-learn. Se ajusta el modelo a los datos de entrenamiento (`x` e `y`), y luego se pueden realizar predicciones utilizando el método `predict()`. Para medir el error y la bondad del ajuste, se calcula el error cuadrático medio (MSE) y el coeficiente de determinación (R^2).\n",
    "\n",
    "El error cuadrático medio (MSE) mide la media de los errores al cuadrado entre los valores reales y los valores predichos. Un valor más bajo del MSE indica un mejor ajuste del modelo a los datos.\n",
    "\n",
    "El coeficiente de determinación (R^2) es una medida estadística utilizada para evaluar la calidad de un modelo de regresión lineal. Es una medida de la proporción de la varianza en la variable de salida que se puede explicar por las variables de entrada en el modelo.\n",
    "\n",
    "El valor de R^2 varía de 0 a 1, donde 0 indica que el modelo no explica nada de la variabilidad de los datos y 1 indica que el modelo explica completamente la variabilidad de los datos. Por lo tanto, cuanto más cercano a 1 sea el valor de R^2, mejor será el ajuste del modelo a los datos.\n",
    "\n",
    "El coeficiente de determinación se puede calcular a partir del error total (SST), la suma de cuadrados de la regresión (SSR) y la suma de cuadrados residual (SSE), de la siguiente manera:\n",
    "\n",
    "R^2 = SSR / SST = 1 - SSE / SST\n",
    "\n",
    "donde SST es la suma total de los cuadrados, que mide la variabilidad total de los datos, SSR mide la variabilidad que se explica por el modelo, y SSE es la variabilidad no explicada por el modelo.\n",
    "\n",
    "Es importante tener en cuenta que aunque un alto valor de R^2 indica que el modelo se ajusta bien a los datos, no necesariamente significa que el modelo sea el mejor para hacer predicciones precisas sobre nuevos datos. Es posible que un modelo más simple o un modelo más complejo puedan tener un valor de R^2 similar o incluso mayor, pero un mejor rendimiento en la predicción de nuevos datos. Por lo tanto, siempre es importante evaluar el rendimiento del modelo en conjuntos de datos de prueba y validación antes de usarlo para hacer predicciones en el mundo real."
   ]
  },
  {
   "cell_type": "code",
   "execution_count": 1,
   "metadata": {},
   "outputs": [
    {
     "name": "stdout",
     "output_type": "stream",
     "text": [
      "Coeficientes: [2.]\n",
      "Intersección: -0.20000000000000018\n",
      "Predicciones: [11.8 13.8]\n",
      "Error cuadrático medio: 0.15999999999999992\n",
      "Coeficiente de determinación (R^2): 0.9803921568627451\n"
     ]
    }
   ],
   "source": [
    "import numpy as np\n",
    "from sklearn.linear_model import LinearRegression\n",
    "\n",
    "# Datos de ejemplo\n",
    "x = np.array([1, 2, 3, 4, 5]).reshape(-1, 1)\n",
    "y = np.array([2, 4, 5, 8, 10])\n",
    "\n",
    "# Crear el modelo de regresión lineal\n",
    "model = LinearRegression()\n",
    "\n",
    "# Ajustar el modelo a los datos\n",
    "model.fit(x, y)\n",
    "\n",
    "# Obtener los coeficientes de la regresión lineal\n",
    "coeficientes = model.coef_\n",
    "interseccion = model.intercept_\n",
    "\n",
    "# Realizar predicciones\n",
    "x_nuevo = np.array([6, 7]).reshape(-1, 1)\n",
    "predicciones = model.predict(x_nuevo)\n",
    "\n",
    "# Medir el error y la bondad del ajuste\n",
    "error_cuadratico_medio = np.mean((model.predict(x) - y) ** 2)\n",
    "coeficiente_r2 = model.score(x, y)\n",
    "\n",
    "print(\"Coeficientes:\", coeficientes)\n",
    "print(\"Intersección:\", interseccion)\n",
    "print(\"Predicciones:\", predicciones)\n",
    "print(\"Error cuadrático medio:\", error_cuadratico_medio)\n",
    "print(\"Coeficiente de determinación (R^2):\", coeficiente_r2)"
   ]
  },
  {
   "attachments": {},
   "cell_type": "markdown",
   "metadata": {},
   "source": [
    "### Ejemplo\n",
    "\n",
    "Supongamos que deseamos predecir el precio de una casa en función de su área (en metros cuadrados). Tomaremos un conjunto de datos simulados para ilustrar el ejemplo:\n"
   ]
  },
  {
   "cell_type": "code",
   "execution_count": 2,
   "metadata": {},
   "outputs": [
    {
     "data": {
      "image/png": "[encoded data removed]",
      "text/plain": [
       "<Figure size 432x288 with 1 Axes>"
      ]
     },
     "metadata": {
      "needs_background": "light"
     },
     "output_type": "display_data"
    }
   ],
   "source": [
    "import numpy as np\n",
    "import matplotlib.pyplot as plt\n",
    "from sklearn.linear_model import LinearRegression\n",
    "\n",
    "# Datos simulados (área y precio)\n",
    "area = np.array([80, 100, 120, 150, 200, 250, 300, 350, 400, 450]).reshape(-1, 1)\n",
    "precio = np.array([150000, 180000, 210000, 250000, 300000, 350000, 400000, 450000, 500000, 550000])\n",
    "\n",
    "# Crear el modelo de regresión lineal\n",
    "model = LinearRegression()\n",
    "\n",
    "# Ajustar el modelo a los datos\n",
    "model.fit(area, precio)\n",
    "\n",
    "# Obtener los coeficientes de la regresión lineal\n",
    "coeficientes = model.coef_\n",
    "interseccion = model.intercept_\n",
    "\n",
    "# Realizar predicciones\n",
    "area_nueva = np.array([120, 180]).reshape(-1, 1)\n",
    "predicciones = model.predict(area_nueva)\n",
    "\n",
    "# Graficar los datos de muestra y las nuevas áreas\n",
    "plt.scatter(area, precio, color='blue', label='Datos de muestra')\n",
    "plt.scatter(area_nueva, predicciones, color='red', label='Nuevas áreas')\n",
    "\n",
    "# Graficar la recta obtenida\n",
    "x = np.linspace(0, 500, 100)\n",
    "y = interseccion + coeficientes * x\n",
    "plt.plot(x, y, color='green', label='Recta de regresión')\n",
    "\n",
    "# Etiquetas y leyenda\n",
    "plt.xlabel('Área (metros cuadrados)')\n",
    "plt.ylabel('Precio')\n",
    "plt.legend()\n",
    "\n",
    "# Mostrar el gráfico\n",
    "plt.show()"
   ]
  },
  {
   "cell_type": "code",
   "execution_count": 3,
   "metadata": {},
   "outputs": [
    {
     "name": "stdout",
     "output_type": "stream",
     "text": [
      "Coeficientes: [1056.84754522]\n",
      "Intersección: 80356.58914728681\n",
      "Predicciones: [207178.29457364 270589.14728682]\n",
      "Error cuadrático medio: 53974160.206718266\n",
      "Coeficiente de determinación (R^2): 0.9968880212057935\n"
     ]
    }
   ],
   "source": [
    "# Medir el error y la bondad del ajuste\n",
    "error_cuadratico_medio = np.mean((model.predict(area) - precio) ** 2)\n",
    "coeficiente_r2 = model.score(area, precio)\n",
    "\n",
    "print(\"Coeficientes:\", coeficientes)\n",
    "print(\"Intersección:\", interseccion)\n",
    "print(\"Predicciones:\", predicciones)\n",
    "print(\"Error cuadrático medio:\", error_cuadratico_medio)\n",
    "print(\"Coeficiente de determinación (R^2):\", coeficiente_r2)"
   ]
  },
  {
   "attachments": {},
   "cell_type": "markdown",
   "metadata": {},
   "source": [
    "En este ejemplo, hemos definido dos listas de datos simulados: area y precio. El área se representa en metros cuadrados, y el precio corresponde a los precios de las casas en función del área. Luego, creamos un modelo de regresión lineal utilizando la clase LinearRegression de scikit-learn y ajustamos el modelo a los datos de área y precio.\n",
    "\n",
    "Después de ajustar el modelo, podemos obtener los coeficientes de la regresión lineal, que representan la pendiente y la intersección de la línea. Luego, utilizamos el modelo para hacer predicciones sobre nuevas áreas (120 y 180 metros cuadrados en este caso) y medimos el error cuadrático medio y el coeficiente de determinación (R^2) para evaluar la calidad del ajuste del modelo.\n",
    "\n",
    "Recuerda que estos datos son simulados y no representan necesariamente la realidad, pero te permiten entender cómo se aplica la regresión lineal en un escenario de la vida real. En una situación real, los datos pueden ser más complejos y requerirían un análisis y preprocesamiento adecuados antes de aplicar la regresión lineal."
   ]
  },
  {
   "attachments": {},
   "cell_type": "markdown",
   "metadata": {},
   "source": [
    "Como puedes ver, sklearn.linear_model - LinearRegression nos hace la vida más facíl, sólo debemos identificar las variables, independiente y dependiente del módelo, si no queda claro lo de reshape, aqui tienes su explicación. \n",
    "\n",
    "En el código proporcionado, se utilizó la función `reshape()` de NumPy y `np.linspace()` para ajustar la forma de los arrays y generar valores espaciados uniformemente, respectivamente. Aquí te explico su propósito en el código:\n",
    "\n",
    "1. `reshape()`: La función `reshape()` se utiliza para cambiar la forma de un array. En el ejemplo, se utilizó para asegurarse de que el array `area` tenga una forma adecuada para ser utilizado como entrada en el modelo de regresión lineal. La forma original del array `area` era (10,), es decir, un array unidimensional con 10 elementos. Sin embargo, la función `fit()` de `LinearRegression` requiere una entrada de dos dimensiones, por lo que utilizamos `reshape(-1, 1)` para transformar el array a una forma de (10, 1), es decir, una columna con 10 filas.\n",
    "\n",
    "2. `np.linspace()`: La función `np.linspace()` se utiliza para generar valores espaciados uniformemente dentro de un intervalo. En el código, se utilizó para crear un array `x` que representa los puntos en el eje x para graficar la recta de regresión. `np.linspace()` toma tres argumentos: el valor inicial del intervalo, el valor final del intervalo y el número de puntos que se generarán en ese intervalo. En este caso, se generaron 100 puntos espaciados uniformemente en el rango de 0 a 500, que se utilizaron para graficar la recta de regresión.\n",
    "\n",
    "En resumen, `reshape()` se utilizó para asegurar que el array tenga la forma correcta para la entrada del modelo, mientras que `np.linspace()` se utilizó para generar puntos espaciados uniformemente en el eje x para graficar la recta de regresión."
   ]
  },
  {
   "attachments": {},
   "cell_type": "markdown",
   "metadata": {},
   "source": [
    "## Regresión lineal multiple\n",
    "\n",
    "Avanzamos un escalon en cuanto a la dificultad y esto es considerar más variables independientes que se relaciona de manera **LINEAL** pero como sabemos que se relacionan de manera lineal mis variables independientes, sin ello no puedo saber si me conviene aplicar una regresión lineal multiple, aquí hay una serie de pasos que puedes seguir.\n",
    "\n",
    "Para evaluar si la relación entre las variables de entrada y la variable de salida se ajusta bien a una relación lineal, puedes considerar algunas estrategias y técnicas:\n",
    "\n",
    "1. Gráfico de dispersión: Un primer paso es trazar un gráfico de dispersión que muestre la relación entre las variables de entrada y la variable de salida. Si los puntos en el gráfico se distribuyen aproximadamente a lo largo de una línea recta o siguen un patrón lineal, esto sugiere una posible relación lineal.\n",
    "\n",
    "2. Análisis visual: Observa el gráfico de dispersión para identificar cualquier patrón o tendencia lineal aparente. Si los puntos parecen dispersarse alrededor de una línea recta o siguen una dirección lineal general, es un indicio de una posible relación lineal.\n",
    "\n",
    "3. Correlación: Calcula el coeficiente de correlación, como el coeficiente de correlación de Pearson, para cuantificar la fuerza y la dirección de la relación lineal entre las variables de entrada y la variable de salida. Un valor cercano a 1 o -1 indica una fuerte correlación lineal positiva o negativa, respectivamente.\n",
    "\n",
    "4. Prueba de hipótesis: Puedes realizar una prueba de hipótesis para evaluar si existe una relación lineal significativa entre las variables. Por ejemplo, una prueba de significancia de los coeficientes de la regresión lineal puede ayudar a determinar si los coeficientes son estadísticamente diferentes de cero.\n",
    "\n",
    "5. Coeficiente de determinación (R^2): El coeficiente de determinación (R^2) es una medida que indica la proporción de la variabilidad de la variable de salida que se puede explicar por las variables de entrada. Un valor alto de R^2 (cerca de 1) sugiere que las variables de entrada están relacionadas de manera lineal con la variable de salida.\n",
    "\n",
    "Es importante tener en cuenta que estos métodos proporcionan indicios y evaluaciones preliminares de la relación lineal. En algunos casos, aunque no se observe una relación lineal clara, puede ser útil explorar transformaciones de variables o considerar otras técnicas, como la regresión polinómica o métodos no lineales, para capturar relaciones más complejas entre las variables."
   ]
  },
  {
   "attachments": {},
   "cell_type": "markdown",
   "metadata": {},
   "source": [
    "### Ejemplo\n",
    "\n",
    "Continuamos con el ejemplo del precio de la casa y supongamos que agregamos otra variable.\n",
    "\n",
    "Realizaré gráficos de dispersión y pruebas de hipótesis para evaluar la relación lineal en cada caso. Utilizaré la biblioteca statsmodels para realizar las pruebas de hipótesis."
   ]
  },
  {
   "cell_type": "code",
   "execution_count": 4,
   "metadata": {},
   "outputs": [
    {
     "data": {
      "image/png": "[encoded data removed]",
      "text/plain": [
       "<Figure size 432x288 with 1 Axes>"
      ]
     },
     "metadata": {
      "needs_background": "light"
     },
     "output_type": "display_data"
    },
    {
     "data": {
      "image/png": "[encoded data removed]",
      "text/plain": [
       "<Figure size 432x288 with 1 Axes>"
      ]
     },
     "metadata": {
      "needs_background": "light"
     },
     "output_type": "display_data"
    },
    {
     "name": "stdout",
     "output_type": "stream",
     "text": [
      "                            OLS Regression Results                            \n",
      "==============================================================================\n",
      "Dep. Variable:                      y   R-squared:                       0.998\n",
      "Model:                            OLS   Adj. R-squared:                  0.998\n",
      "Method:                 Least Squares   F-statistic:                     2078.\n",
      "Date:                Sat, 06 May 2023   Prob (F-statistic):           1.95e-10\n",
      "Time:                        10:49:20   Log-Likelihood:                -100.13\n",
      "No. Observations:                  10   AIC:                             206.3\n",
      "Df Residuals:                       7   BIC:                             207.2\n",
      "Df Model:                           2                                         \n",
      "Covariance Type:            nonrobust                                         \n",
      "==============================================================================\n",
      "                 coef    std err          t      P>|t|      [0.025      0.975]\n",
      "------------------------------------------------------------------------------\n",
      "const       5.517e+04   1.12e+04      4.913      0.002    2.86e+04    8.17e+04\n",
      "x1           880.4220     74.120     11.878      0.000     705.157    1055.687\n",
      "x2          1.501e+04   6147.914      2.441      0.045     468.355    2.95e+04\n",
      "==============================================================================\n",
      "Omnibus:                        1.254   Durbin-Watson:                   1.763\n",
      "Prob(Omnibus):                  0.534   Jarque-Bera (JB):                0.688\n",
      "Skew:                          -0.050   Prob(JB):                        0.709\n",
      "Kurtosis:                       1.719   Cond. No.                     1.67e+03\n",
      "==============================================================================\n",
      "\n",
      "Notes:\n",
      "[1] Standard Errors assume that the covariance matrix of the errors is correctly specified.\n",
      "[2] The condition number is large, 1.67e+03. This might indicate that there are\n",
      "strong multicollinearity or other numerical problems.\n",
      "La variable num_habitaciones tiene una relación lineal significativa con el precio.\n"
     ]
    },
    {
     "name": "stderr",
     "output_type": "stream",
     "text": [
      "c:\\Users\\tesbh\\AppData\\Local\\Programs\\Python\\Python310\\lib\\site-packages\\scipy\\stats\\stats.py:1541: UserWarning: kurtosistest only valid for n>=20 ... continuing anyway, n=10\n",
      "  warnings.warn(\"kurtosistest only valid for n>=20 ... continuing \"\n"
     ]
    }
   ],
   "source": [
    "import numpy as np\n",
    "import matplotlib.pyplot as plt\n",
    "import statsmodels.api as sm\n",
    "\n",
    "# Datos simulados (área, número de habitaciones y precio)\n",
    "area = np.array([80, 100, 120, 150, 200, 250, 300, 350, 400, 450])\n",
    "num_habitaciones = np.array([2, 3, 3, 4, 4, 5, 5, 6, 6, 7])\n",
    "precio = np.array([150000, 180000, 210000, 250000, 300000, 350000, 400000, 450000, 500000, 550000])\n",
    "\n",
    "# Gráfico de dispersión: Área vs. Precio\n",
    "plt.scatter(area, precio)\n",
    "plt.xlabel('Área (metros cuadrados)')\n",
    "plt.ylabel('Precio')\n",
    "plt.title('Relación entre Área y Precio')\n",
    "plt.show()\n",
    "\n",
    "# Gráfico de dispersión: Número de habitaciones vs. Precio\n",
    "plt.scatter(num_habitaciones, precio)\n",
    "plt.xlabel('Número de habitaciones')\n",
    "plt.ylabel('Precio')\n",
    "plt.title('Relación entre Número de habitaciones y Precio')\n",
    "plt.show()\n",
    "\n",
    "# Crear matriz de diseño para regresión lineal múltiple\n",
    "X = sm.add_constant(np.column_stack((area, num_habitaciones)))\n",
    "\n",
    "# Ajustar el modelo de regresión lineal múltiple\n",
    "model = sm.OLS(precio, X)\n",
    "results = model.fit()\n",
    "\n",
    "# Obtener los coeficientes y estadísticas del modelo\n",
    "print(results.summary())\n",
    "\n",
    "# Prueba de hipótesis para la variable que no muestra relación lineal clara\n",
    "p_value = results.pvalues[2]  # P-valor para el coeficiente de la segunda variable (num_habitaciones)\n",
    "alpha = 0.05  # Nivel de significancia\n",
    "\n",
    "if p_value < alpha:\n",
    "    print(\"La variable num_habitaciones tiene una relación lineal significativa con el precio.\")\n",
    "else:\n",
    "    print(\"La variable num_habitaciones no tiene una relación lineal significativa con el precio.\")\n"
   ]
  },
  {
   "attachments": {},
   "cell_type": "markdown",
   "metadata": {},
   "source": [
    "En este ejemplo, se agregan dos variables adicionales: num_habitaciones y precio. La variable num_habitaciones se relaciona linealmente con el precio, mientras que la variable area no muestra una relación lineal clara con el precio (esto es mentira pero en el ejemplo de tener otra variable).\n",
    "\n",
    "Se grafican los datos de dispersión de area vs. precio y num_habitaciones vs. precio. Luego, se realiza una regresión lineal múltiple utilizando OLS de statsmodels y se imprimen los resultados del modelo.\n",
    "\n",
    "Además, se realiza una prueba de hipótesis para evaluar la relación lineal de la variable num_habitaciones con el precio. Se compara el p-valor del coeficiente correspondiente a la variable num_habitaciones con un nivel de significancia (alpha) de 0.05. Si el p-valor es menor que alpha, se concluye que la variable tiene una relación lineal significativa con el precio; de lo contrario, se concluye que no hay una relación lineal significativa."
   ]
  },
  {
   "attachments": {},
   "cell_type": "markdown",
   "metadata": {},
   "source": [
    "Aquí tienes un ejemplo de cómo construir un modelo de regresión lineal múltiple con las variables area y num_habitaciones para predecir el precio. Luego, se calcularán los errores y medidas de evaluación del modelo, y se realizará una gráfica con los datos de muestra, la recta de regresión y los nuevos valores pronosticados."
   ]
  },
  {
   "cell_type": "code",
   "execution_count": 5,
   "metadata": {},
   "outputs": [
    {
     "name": "stdout",
     "output_type": "stream",
     "text": [
      "Coeficientes: [  880.42203986 15005.86166471]\n",
      "Intercepto: 55172.33294255566\n",
      "Error cuadrático medio (MSE): 29158264.94724513\n",
      "Coeficiente de determinación (R^2): 0.9983188269749051\n"
     ]
    },
    {
     "data": {
      "image/png": "[encoded data removed]",
      "text/plain": [
       "<Figure size 432x288 with 1 Axes>"
      ]
     },
     "metadata": {
      "needs_background": "light"
     },
     "output_type": "display_data"
    }
   ],
   "source": [
    "import numpy as np\n",
    "import matplotlib.pyplot as plt\n",
    "from sklearn.linear_model import LinearRegression\n",
    "\n",
    "# Datos simulados (área, número de habitaciones y precio)\n",
    "area = np.array([80, 100, 120, 150, 200, 250, 300, 350, 400, 450])\n",
    "num_habitaciones = np.array([2, 3, 3, 4, 4, 5, 5, 6, 6, 7])\n",
    "precio = np.array([150000, 180000, 210000, 250000, 300000, 350000, 400000, 450000, 500000, 550000])\n",
    "\n",
    "# Crear matriz de diseño para regresión lineal múltiple\n",
    "X = np.column_stack((area, num_habitaciones))\n",
    "\n",
    "# Crear instancia del modelo de regresión lineal múltiple\n",
    "model = LinearRegression()\n",
    "\n",
    "# Ajustar el modelo a los datos\n",
    "model.fit(X, precio)\n",
    "\n",
    "# Obtener los coeficientes del modelo\n",
    "coeficientes = model.coef_\n",
    "intercepto = model.intercept_\n",
    "\n",
    "# Predecir los valores del precio para los datos de muestra\n",
    "predicciones = model.predict(X)\n",
    "\n",
    "# Calcular los errores y medidas de evaluación\n",
    "mse = np.mean((predicciones - precio) ** 2)\n",
    "r2 = model.score(X, precio)\n",
    "\n",
    "# Imprimir los coeficientes, errores y medidas de evaluación\n",
    "print(\"Coeficientes:\", coeficientes)\n",
    "print(\"Intercepto:\", intercepto)\n",
    "print(\"Error cuadrático medio (MSE):\", mse)\n",
    "print(\"Coeficiente de determinación (R^2):\", r2)\n",
    "\n",
    "# Gráfico de dispersión con recta de regresión y valores pronosticados\n",
    "plt.scatter(area, precio, label='Datos de muestra')\n",
    "plt.plot(area, predicciones, color='red', label='Recta de regresión')\n",
    "plt.xlabel('Área')\n",
    "plt.ylabel('Precio')\n",
    "plt.title('Regresión Lineal Múltiple')\n",
    "plt.legend()\n",
    "plt.show()\n"
   ]
  },
  {
   "attachments": {},
   "cell_type": "markdown",
   "metadata": {},
   "source": [
    "En este ejemplo, se utiliza el modelo de regresión lineal múltiple de la biblioteca scikit-learn (LinearRegression). Se ajusta el modelo a los datos de area y num_habitaciones para predecir el precio. Se obtienen los coeficientes del modelo, se realizan las predicciones y se calculan los errores y medidas de evaluación, como el error cuadrático medio (MSE) y el coeficiente de determinación (R^2).\n",
    "\n",
    "Luego, se realiza un gráfico de dispersión con los datos de muestra, la recta de regresión (basada en los coeficientes del modelo) y los nuevos valores pronosticados."
   ]
  },
  {
   "attachments": {},
   "cell_type": "markdown",
   "metadata": {},
   "source": [
    "Lo que se agrega es:\n",
    "\n",
    "Crear matriz de diseño para regresión lineal múltiple\n",
    "\n",
    "`X = np.column_stack((area, num_habitaciones))`\n",
    "\n",
    "Correcto, en el código se crea una matriz de diseño para la regresión lineal múltiple utilizando la función `np.column_stack()`. Esta función toma como argumento una secuencia de arrays 1-D y los apila como columnas para crear una matriz 2-D.\n",
    "\n",
    "En este caso, se utiliza `np.column_stack((area, num_habitaciones))` para combinar las variables `area` y `num_habitaciones` en una única matriz de diseño `X`. Cada variable se representa como una columna en la matriz.\n",
    "\n",
    "La función `column_stack()` es útil cuando se tienen varias variables de entrada para la regresión lineal múltiple y se desea combinarlas en una única matriz para su procesamiento en el modelo.\n",
    "\n",
    "Es importante asegurarse de que las variables estén en el orden correcto al utilizar `column_stack()`, ya que el orden de las columnas en la matriz de diseño afecta los coeficientes y las predicciones del modelo de regresión lineal múltiple.\n",
    "\n",
    "Puedes agregar más variables a la matriz de diseño para la regresión lineal múltiple! La matriz de diseño debe contener todas las variables de entrada que desees utilizar para predecir la variable de salida.\n",
    "\n",
    "Aquí tienes un ejemplo de cómo agregar una tercera variable, por ejemplo, edad del inmueble:\n",
    "\n",
    "```python\n",
    "# Datos simulados (área, número de habitaciones, edad y precio)\n",
    "area = np.array([80, 100, 120, 150, 200, 250, 300, 350, 400, 450])\n",
    "num_habitaciones = np.array([2, 3, 3, 4, 4, 5, 5, 6, 6, 7])\n",
    "edad = np.array([5, 10, 15, 20, 25, 30, 35, 40, 45, 50])\n",
    "precio = np.array([150000, 180000, 210000, 250000, 300000, 350000, 400000, 450000, 500000, 550000])\n",
    "\n",
    "# Crear matriz de diseño para regresión lineal múltiple\n",
    "X = np.column_stack((area, num_habitaciones, edad))\n",
    "```\n",
    "En este ejemplo, se agrega la variable edad a la matriz de diseño X. Simplemente se agrega edad como una nueva columna en la matriz utilizando np.column_stack().\n",
    "\n",
    "Recuerda que al agregar más variables, es importante considerar su relevancia y la posible existencia de multicolinealidad (alta correlación entre las variables). También debes tener en cuenta que a medida que aumenta el número de variables, el modelo puede volverse más complejo y se deben realizar evaluaciones adicionales para determinar su eficiencia y validez\n",
    "\n"
   ]
  },
  {
   "attachments": {},
   "cell_type": "markdown",
   "metadata": {},
   "source": [
    "## Optimizar las regresiones lineales simples y multiples\n",
    "\n",
    "\n",
    "Para la regresión lineal simple:\n",
    "\n",
    "1. **Explora y transforma las características**: Analiza si existe una relación no lineal entre la variable de entrada y la variable de salida. En este caso, puedes considerar transformaciones no lineales de la variable de entrada, como logaritmos o funciones polinómicas, para capturar mejor la relación.\n",
    "\n",
    "2. **Agrega variables adicionales**: Aunque es una regresión lineal simple, puedes explorar si agregar variables adicionales, que se relacionen linealmente con la variable de salida, mejora el ajuste del modelo. Sin embargo, asegúrate de que estas variables sean relevantes y no introduzcan multicolinealidad.\n",
    "\n",
    "Para la regresión lineal múltiple:\n",
    "\n",
    "1. **Realiza un análisis de multicolinealidad**: La multicolinealidad ocurre cuando hay una alta correlación entre las variables independientes. Puedes usar técnicas como la matriz de correlación o el factor de inflación de la varianza (VIF) para detectar multicolinealidad y considerar eliminar o transformar variables para abordar este problema.\n",
    "\n",
    "2. **Realiza selección de características**: Si tienes un conjunto grande de variables independientes, puedes aplicar técnicas de selección de características, como la eliminación hacia atrás (backward elimination) o la selección hacia adelante (forward selection), para identificar las variables más relevantes para el modelo.\n",
    "\n",
    "3. **Evalúa diferentes combinaciones de variables**: Experimenta con diferentes combinaciones de variables independientes y evalúa cómo afectan el rendimiento del modelo. A veces, eliminar o agregar variables puede mejorar la precisión del modelo.\n",
    "\n",
    "4. **Considera transformaciones y normalizaciones**: Puedes aplicar transformaciones o normalizaciones a las variables independientes para mejorar el ajuste del modelo. Por ejemplo, aplicar logaritmo a variables sesgadas o normalizar variables para que tengan una escala similar.\n",
    "\n",
    "Recuerda que la optimización de los modelos de regresión implica un proceso iterativo de prueba y evaluación. Es importante evaluar el rendimiento del modelo utilizando métricas adecuadas, como el error cuadrático medio (MSE), el coeficiente de determinación (R²) y realizar validación cruzada para obtener estimaciones más confiables del rendimiento en datos no observados.\n",
    "\n"
   ]
  },
  {
   "attachments": {},
   "cell_type": "markdown",
   "metadata": {},
   "source": [
    "## <center> No lineales\n"
   ]
  },
  {
   "attachments": {},
   "cell_type": "markdown",
   "metadata": {},
   "source": [
    "Las regresiones lineales son un mundo en si mismas, y una cuestión es que si sabemos el concepto de linealidad entonces sabemos su contraparte la **NO** linealidad, afortunadamente la no linealidad representa la mayor parte de los fenoménos físicos de la naturaleza, por supuesto estamos en el contexto de querer acer pronosticos, afortunadamente estos métodos llevan bastante tiempo funcionando, aqui te presento algunos de los más importantes:\n",
    "\n",
    "1. **Regresión Polinómica**: En la regresión polinómica, se utiliza una función polinómica para ajustar los datos. Puedes incluir términos polinómicos de grado superior en la ecuación de regresión para capturar relaciones no lineales más complejas.\n",
    "\n",
    "2. **Regresión Exponencial**: En la regresión exponencial, la variable de salida se modela como una función exponencial de las variables de entrada. Es útil cuando se espera que la relación entre las variables siga un crecimiento o una disminución exponencial.\n",
    "\n",
    "3. **Regresión Logarítmica**: La regresión logarítmica se utiliza cuando se espera que la relación entre las variables siga una tendencia logarítmica. Se toma el logaritmo de la variable de salida y se ajusta a una función lineal de las variables de entrada.\n",
    "\n",
    "4. **Regresión Sigmoidea**: La regresión sigmoidea se utiliza cuando se espera una relación en forma de curva en forma de \"S\". Un ejemplo común es la regresión logística, utilizada para problemas de clasificación binaria.\n",
    "\n",
    "5. **Regresión Splines**: La regresión splines es una técnica que utiliza funciones suavizadas para ajustar los datos. Divide los datos en segmentos y ajusta polinomios de grado bajo en cada segmento, logrando una curva suave.\n",
    "\n",
    "Estos son solo algunos ejemplos de regresiones no lineales. La elección del modelo depende de la naturaleza de los datos y del tipo de relación no lineal que se espera. Es importante explorar y seleccionar el modelo adecuado basándose en la comprensión del problema y el análisis de los datos.\n",
    "\n"
   ]
  },
  {
   "attachments": {},
   "cell_type": "markdown",
   "metadata": {},
   "source": [
    "Aquí tienes un ejemplo de cada tipo de regresión no lineal, junto con una breve descripción de cómo determinar si tus datos se ajustan a cada modelo:\n",
    "\n",
    "1. **Regresión Polinómica**:\n",
    "\n",
    "* Ejemplo: Supongamos que tienes datos que muestran una relación curvilínea entre la variable de entrada (X) y la variable de salida (Y). Puedes ajustar un modelo de regresión polinómica para capturar esta relación no lineal."
   ]
  },
  {
   "cell_type": "code",
   "execution_count": 6,
   "metadata": {},
   "outputs": [
    {
     "data": {
      "image/png": "[encoded data removed]",
      "text/plain": [
       "<Figure size 432x288 with 1 Axes>"
      ]
     },
     "metadata": {
      "needs_background": "light"
     },
     "output_type": "display_data"
    }
   ],
   "source": [
    "import numpy as np\n",
    "import matplotlib.pyplot as plt\n",
    "\n",
    "# Generar datos de ejemplo\n",
    "X = np.linspace(-5, 5, 100)\n",
    "Y = 2 * X**2 + 3 * X + 1 + np.random.normal(0, 5, 100)\n",
    "\n",
    "# Ajustar un modelo de regresión polinómica de grado 2\n",
    "coef = np.polyfit(X, Y, 2)\n",
    "Y_pred = np.polyval(coef, X)\n",
    "\n",
    "# Graficar los datos y la curva ajustada\n",
    "plt.scatter(X, Y, label='Datos')\n",
    "plt.plot(X, Y_pred, color='red', label='Regresión polinómica')\n",
    "plt.legend()\n",
    "plt.show()"
   ]
  },
  {
   "attachments": {},
   "cell_type": "markdown",
   "metadata": {},
   "source": [
    "Para determinar si los datos se ajustan a la regresión polinómica, puedes observar visualmente si la curva ajustada captura la forma general de los datos. Además, puedes evaluar la bondad del ajuste mediante medidas como el coeficiente de determinación (R²) o el error cuadrático medio (MSE)."
   ]
  },
  {
   "attachments": {},
   "cell_type": "markdown",
   "metadata": {},
   "source": [
    "* Ejemplo en la vida real:\n",
    "\n",
    "Un ejemplo de la vida real en el que se podría aplicar la regresión polinómica es el análisis de ventas de productos en función del tiempo. Supongamos que tienes datos históricos de ventas de un producto durante varios meses. Quieres predecir las ventas futuras en función del tiempo utilizando un modelo no lineal.\n"
   ]
  },
  {
   "cell_type": "code",
   "execution_count": 7,
   "metadata": {},
   "outputs": [
    {
     "data": {
      "image/png": "[encoded data removed]",
      "text/plain": [
       "<Figure size 432x288 with 1 Axes>"
      ]
     },
     "metadata": {
      "needs_background": "light"
     },
     "output_type": "display_data"
    }
   ],
   "source": [
    "import numpy as np\n",
    "import matplotlib.pyplot as plt\n",
    "\n",
    "# Datos de ejemplo: Meses (variable independiente) y ventas (variable dependiente)\n",
    "meses = np.array([1, 2, 3, 4, 5, 6, 7, 8, 9, 10])\n",
    "ventas = np.array([10, 15, 12, 20, 25, 30, 35, 40, 45, 50])\n",
    "\n",
    "# Ajustar un modelo de regresión polinómica de grado 2\n",
    "coef = np.polyfit(meses, ventas, 2)\n",
    "ventas_pred = np.polyval(coef, meses)\n",
    "\n",
    "# Graficar los datos y la curva ajustada\n",
    "plt.scatter(meses, ventas, label='Datos de ventas')\n",
    "plt.plot(meses, ventas_pred, color='red', label='Regresión polinómica')\n",
    "plt.xlabel('Meses')\n",
    "plt.ylabel('Ventas')\n",
    "plt.legend()\n",
    "plt.show()\n"
   ]
  },
  {
   "attachments": {},
   "cell_type": "markdown",
   "metadata": {},
   "source": [
    "En este ejemplo, los datos de meses se toman como la variable independiente (X) y las ventas se toman como la variable dependiente (Y). Ajustamos un modelo de regresión polinómica de grado 2 utilizando np.polyfit(), y luego generamos las predicciones utilizando np.polyval().\n",
    "\n",
    "Al graficar los datos y la curva ajustada, puedes visualizar cómo el modelo de regresión polinómica se ajusta a los datos y captura la relación no lineal entre el tiempo y las ventas.\n",
    "\n",
    "Recuerda que el grado del polinomio puede ajustarse según la complejidad de los datos y las características del problema específico. Además, es importante evaluar la calidad del ajuste utilizando métricas como el coeficiente de determinación (R²) y realizar validación cruzada para obtener una estimación más precisa del rendimiento del modelo en datos no observados."
   ]
  },
  {
   "attachments": {},
   "cell_type": "markdown",
   "metadata": {},
   "source": [
    "En todo lo anterior nos hemos enfocado en predecir **numeros** pero existen otro tipo de regresiones que nos permiten predecir valores categoricos."
   ]
  },
  {
   "attachments": {},
   "cell_type": "markdown",
   "metadata": {},
   "source": [
    "## Regresión logistica\n",
    "\n",
    "La regresión logística es un método para predecir un **valor categórico**. En Python, el modelo se puede ajustar utilizando la biblioteca scikit-learn.\n",
    "\n",
    "Para la regresión logística, algunos de los parámetros que se pueden ajustar son:\n",
    "\n",
    "- penalty: la norma utilizada en la penalización (por ejemplo, L1 o L2).\n",
    "- C: la inversa de la fuerza de regularización.\n",
    "- solver: el algoritmo utilizado para optimizar la función de pérdida.\n",
    "\n",
    "Por ejemplo, supongamos que estamos tratando de predecir si un paciente tiene una enfermedad cardíaca utilizando una regresión logística. Podemos ajustar el modelo con los siguientes parámetros:"
   ]
  },
  {
   "cell_type": "code",
   "execution_count": 9,
   "metadata": {},
   "outputs": [],
   "source": [
    "from sklearn.linear_model import LogisticRegression as Logistic\n",
    "\n",
    "model = Logistic\n"
   ]
  },
  {
   "attachments": {},
   "cell_type": "markdown",
   "metadata": {},
   "source": [
    "En este ejemplo, se utiliza la penalización L2, se establece el valor de C en 1.0 (lo que significa una regularización moderada) y se utiliza el algoritmo 'liblinear' para optimizar la función de pérdida.\n",
    "\n",
    "**Ejemplo complejo de optimización de parámetros**\n",
    "\n",
    "Imaginemos que queremos ajustar un modelo de regresión logística para predecir si un cliente de un banco realizará o no una suscripción a un depósito a plazo. Tenemos un conjunto de datos con características como edad, ingresos, educación, etc.\n",
    "\n",
    "Para optimizar los parámetros del modelo, podríamos utilizar una técnica llamada búsqueda en cuadrícula (grid search). Esta técnica nos permite especificar una cuadrícula de valores posibles para los parámetros y evaluar el rendimiento del modelo para cada combinación de parámetros.\n",
    "\n",
    "Aquí hay un ejemplo de cómo realizar una búsqueda en cuadrícula para optimizar los parámetros de un modelo de regresión logística utilizando la biblioteca `scikit-learn`:"
   ]
  },
  {
   "cell_type": "code",
   "execution_count": 10,
   "metadata": {},
   "outputs": [
    {
     "name": "stdout",
     "output_type": "stream",
     "text": [
      "Mejores parámetros: {'C': 0.1, 'penalty': 'l1', 'solver': 'liblinear'}\n",
      "Exactitud del modelo: 0.835\n"
     ]
    },
    {
     "name": "stderr",
     "output_type": "stream",
     "text": [
      "c:\\Users\\tesbh\\AppData\\Local\\Programs\\Python\\Python310\\lib\\site-packages\\sklearn\\linear_model\\_sag.py:350: ConvergenceWarning: The max_iter was reached which means the coef_ did not converge\n",
      "  warnings.warn(\n",
      "c:\\Users\\tesbh\\AppData\\Local\\Programs\\Python\\Python310\\lib\\site-packages\\sklearn\\linear_model\\_sag.py:350: ConvergenceWarning: The max_iter was reached which means the coef_ did not converge\n",
      "  warnings.warn(\n",
      "c:\\Users\\tesbh\\AppData\\Local\\Programs\\Python\\Python310\\lib\\site-packages\\sklearn\\linear_model\\_sag.py:350: ConvergenceWarning: The max_iter was reached which means the coef_ did not converge\n",
      "  warnings.warn(\n",
      "c:\\Users\\tesbh\\AppData\\Local\\Programs\\Python\\Python310\\lib\\site-packages\\sklearn\\linear_model\\_sag.py:350: ConvergenceWarning: The max_iter was reached which means the coef_ did not converge\n",
      "  warnings.warn(\n",
      "c:\\Users\\tesbh\\AppData\\Local\\Programs\\Python\\Python310\\lib\\site-packages\\sklearn\\linear_model\\_sag.py:350: ConvergenceWarning: The max_iter was reached which means the coef_ did not converge\n",
      "  warnings.warn(\n"
     ]
    }
   ],
   "source": [
    "from sklearn.linear_model import LogisticRegression\n",
    "from sklearn.model_selection import GridSearchCV\n",
    "from sklearn.metrics import accuracy_score\n",
    "from sklearn.datasets import make_classification\n",
    "from sklearn.model_selection import train_test_split\n",
    "\n",
    "# Generar datos de ejemplo\n",
    "X, y = make_classification(n_samples=1000, n_features=10, random_state=42)\n",
    "\n",
    "# Dividir los datos en conjuntos de entrenamiento y prueba\n",
    "X_train, X_test, y_train, y_test = train_test_split(X, y, test_size=0.2, random_state=42)\n",
    "\n",
    "# Definir los parámetros que queremos probar\n",
    "param_grid = {'penalty': ['l1', 'l2'], 'C': [0.1, 1.0, 10.0], 'solver': ['liblinear', 'saga']}\n",
    "\n",
    "# Crear el modelo de regresión logística\n",
    "model = LogisticRegression()\n",
    "\n",
    "# Realizar la búsqueda en cuadrícula\n",
    "grid_search = GridSearchCV(model, param_grid, cv=5, scoring='accuracy')\n",
    "grid_search.fit(X_train, y_train)\n",
    "\n",
    "# Obtener los mejores parámetros encontrados\n",
    "best_params = grid_search.best_params_\n",
    "print(\"Mejores parámetros:\", best_params)\n",
    "\n",
    "# Evaluar el rendimiento del modelo con los mejores parámetros en los datos de prueba\n",
    "best_model = grid_search.best_estimator_\n",
    "y_pred = best_model.predict(X_test)\n",
    "accuracy = accuracy_score(y_test, y_pred)\n",
    "print(\"Exactitud del modelo:\", accuracy)"
   ]
  },
  {
   "attachments": {},
   "cell_type": "markdown",
   "metadata": {},
   "source": [
    "En este ejemplo, se genera un conjunto de datos de ejemplo, se divide en conjuntos de entrenamiento y prueba, se define una cuadrícula de posibles valores para los parámetros (param_grid), se crea el modelo de regresión logística y se realiza la búsqueda en cuadrícula para encontrar los mejores parámetros. Luego, se evalúa el rendimiento del modelo con los mejores parámetros en los datos de prueba.\n",
    "\n",
    "Recuerda que este es solo un ejemplo y los parámetros y técnicas de optimización pueden variar según el problema y los datos con los que estés trabajando. La optimización de los parámetros es un proceso iterativo y requiere experimentación para encontrar la combinación óptima de parámetros que funcione mejor para tu caso específico."
   ]
  },
  {
   "cell_type": "code",
   "execution_count": null,
   "metadata": {},
   "outputs": [],
   "source": []
  }
 ],
 "metadata": {
  "kernelspec": {
   "display_name": "Python 3",
   "language": "python",
   "name": "python3"
  },
  "language_info": {
   "codemirror_mode": {
    "name": "ipython",
    "version": 3
   },
   "file_extension": ".py",
   "mimetype": "text/x-python",
   "name": "python",
   "nbconvert_exporter": "python",
   "pygments_lexer": "ipython3",
   "version": "3.10.4"
  },
  "orig_nbformat": 4
 },
 "nbformat": 4,
 "nbformat_minor": 2
}
