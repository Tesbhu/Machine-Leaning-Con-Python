{
 "cells": [
  {
   "attachments": {},
   "cell_type": "markdown",
   "metadata": {},
   "source": [
    "# <center> Aprendizaje Supervisado"
   ]
  },
  {
   "attachments": {},
   "cell_type": "markdown",
   "metadata": {},
   "source": [
    "----\n",
    "\n",
    "El aprendizaje supervisado es una técnica dentro del campo del aprendizaje automático (machine learning) donde se entrena un modelo utilizando un conjunto de datos etiquetados. En este enfoque, el modelo aprende a realizar predicciones o tomar decisiones basándose en ejemplos previamente etiquetados que representan el comportamiento esperado.\n",
    "\n",
    "En el aprendizaje supervisado, los datos de entrenamiento se componen de pares de entrada y salida esperada, también conocidos como ejemplos de entrenamiento. El objetivo es que el modelo aprenda una función o regla general que pueda mapear las entradas a las salidas correctas. Durante el proceso de entrenamiento, el modelo ajusta sus parámetros internos para minimizar la diferencia entre las salidas predichas y las salidas esperadas.\n",
    "\n",
    "Una aplicación común del aprendizaje supervisado en el mundo real es el reconocimiento de imágenes. Por ejemplo, imagina que deseas desarrollar un sistema capaz de reconocer y clasificar imágenes de gatos y perros. En este caso, utilizarías un conjunto de datos etiquetados donde cada imagen está asociada con una etiqueta que indica si es un gato o un perro.\n",
    "\n",
    "Luego, entrenarías un modelo de aprendizaje supervisado utilizando ese conjunto de datos, donde las imágenes serían las entradas y las etiquetas (gato o perro) serían las salidas esperadas. Durante el entrenamiento, el modelo aprendería a reconocer patrones y características específicas en las imágenes que le permitirían realizar predicciones precisas sobre si una nueva imagen es un gato o un perro.\n",
    "\n",
    "Una vez que el modelo ha sido entrenado, puedes utilizarlo en una aplicación real para clasificar imágenes de gatos y perros en tiempo real. Por ejemplo, podrías construir una aplicación móvil que permita a los usuarios tomar una foto y el modelo clasificaría automáticamente si la imagen contiene un gato o un perro.\n",
    "\n",
    "Esta es solo una de las muchas aplicaciones del aprendizaje supervisado en el mundo real. Otros ejemplos incluyen la detección de fraudes en transacciones financieras, el diagnóstico médico a partir de imágenes o datos de pacientes, la traducción automática de idiomas, entre muchos otros.\n",
    "\n",
    "-----\n",
    "\n",
    "**En el aprendizaje supervisado**, existen varios métodos y algoritmos utilizados para entrenar modelos y realizar predicciones. A continuación, se mencionan algunos de los métodos más comunes:\n",
    "\n",
    "1. Regresión lineal: Es utilizado para problemas de regresión, donde se busca predecir un valor numérico continuo. El modelo busca ajustar una línea recta que mejor se ajuste a los datos de entrenamiento.\n",
    "\n",
    "2. Regresión logística: Es utilizado para problemas de clasificación binaria, donde se busca predecir una salida que pertenezca a una de dos clases posibles. El modelo estima la probabilidad de que una instancia pertenezca a una clase en función de las características de entrada.\n",
    "\n",
    "3. Máquinas de vectores de soporte (SVM): Son utilizadas tanto para problemas de clasificación como de regresión. Buscan encontrar un hiperplano que separe de manera óptima las diferentes clases en el espacio de características.\n",
    "\n",
    "4. Árboles de decisión: Son estructuras de árbol utilizadas para la toma de decisiones. Cada nodo representa una característica y cada rama una posible decisión o resultado. Los árboles de decisión se construyen de manera recursiva dividiendo los datos en función de las características para lograr la clasificación.\n",
    "\n",
    "5. Bosques aleatorios: Consisten en un conjunto de árboles de decisión, donde cada árbol vota por la clase a la que pertenece una instancia. La predicción final se obtiene por mayoría de votos.\n",
    "\n",
    "6. Redes neuronales artificiales: Son modelos inspirados en el funcionamiento del cerebro humano. Están compuestas por neuronas interconectadas en capas y son capaces de aprender y extraer características complejas de los datos.\n",
    "\n",
    "7. Redes neuronales convolucionales (CNN): Son una variante de las redes neuronales que se utilizan específicamente para el procesamiento de imágenes y datos con estructura espacial. Utilizan capas de convolución y pooling para extraer características de las imágenes.\n",
    "\n",
    "Estos son solo algunos ejemplos de métodos utilizados en el aprendizaje supervisado. Cada uno tiene sus propias características y es más adecuado para ciertos tipos de problemas y conjuntos de datos. La elección del método depende de la naturaleza del problema y los datos disponibles.\n",
    "\n",
    "-----\n",
    "\n",
    "Para desarrollar proyectos de aprendizaje supervisado, existen varias bibliotecas y paquetes populares en diferentes lenguajes de programación que facilitan la implementación de algoritmos y la manipulación de datos. Algunas de las bibliotecas más utilizadas son:\n",
    "\n",
    "1. Python:\n",
    "\n",
    "* Scikit-learn: Es una biblioteca ampliamente utilizada que proporciona una variedad de algoritmos de aprendizaje supervisado, preprocesamiento de datos y evaluación de modelos.\n",
    "* TensorFlow y Keras: Son bibliotecas populares para desarrollar redes neuronales y aplicaciones de deep learning.\n",
    "* PyTorch: Es otra biblioteca de deep learning muy utilizada, especialmente en la comunidad de investigación.\n",
    "* XGBoost: Es una biblioteca optimizada para boosting de árboles y se utiliza con frecuencia en problemas de clasificación y regresión.\n",
    "\n",
    "2. R:\n",
    "\n",
    "* Caret: Es una biblioteca versátil que proporciona una interfaz unificada para diferentes algoritmos de aprendizaje supervisado y también incluye herramientas para preprocesamiento de datos y selección de características.\n",
    "\n",
    "* Random Forest, xgboost y gbm: Estas son bibliotecas populares para realizar clasificación y regresión con árboles y boosting.\n",
    "\n",
    "3. Java:\n",
    "\n",
    "* Weka: Es una biblioteca de aprendizaje automático y minería de datos que proporciona una amplia gama de algoritmos de aprendizaje supervisado.\n",
    "* Deeplearning4j: Es una biblioteca de deep learning en Java que permite construir y entrenar redes neuronales.\n",
    "\n",
    "Estas son solo algunas de las bibliotecas más comunes, pero hay muchas más disponibles dependiendo del lenguaje de programación que estés utilizando y del tipo específico de problema que estés abordando. Cada biblioteca tiene sus propias características y ventajas, por lo que es importante explorar y seleccionar la que mejor se adapte a tus necesidades y preferencias."
   ]
  },
  {
   "attachments": {},
   "cell_type": "markdown",
   "metadata": {},
   "source": [
    "## Cuando implementar un modelo de aprendizaje supervisado"
   ]
  },
  {
   "attachments": {},
   "cell_type": "markdown",
   "metadata": {},
   "source": [
    "El aprendizaje supervisado se puede implementar en diferentes etapas de un proyecto, dependiendo del contexto y los objetivos específicos. Aquí hay algunas situaciones en las que el aprendizaje supervisado puede ser útil:\n",
    "\n",
    "1. Análisis exploratorio de datos: Antes de embarcarte en un proyecto de aprendizaje supervisado, es común realizar un análisis exploratorio de datos para comprender la estructura y las relaciones en los datos disponibles. Esto te permitirá identificar las variables objetivo, las características relevantes y evaluar la idoneidad del aprendizaje supervisado para el problema.\n",
    "\n",
    "2. Desarrollo de modelos predictivos: El aprendizaje supervisado es particularmente útil cuando deseas construir modelos que puedan realizar predicciones o clasificaciones basadas en datos históricos. Por ejemplo, si tienes un conjunto de datos de ventas pasadas, podrías utilizar el aprendizaje supervisado para predecir las ventas futuras en función de diferentes variables explicativas.\n",
    "\n",
    "3. Automatización de tareas: El aprendizaje supervisado también se puede utilizar para automatizar tareas que requieren toma de decisiones basadas en datos. Por ejemplo, en un sistema de detección de spam de correo electrónico, puedes entrenar un modelo utilizando ejemplos etiquetados de correos electrónicos como spam o no spam, y luego utilizar ese modelo para clasificar automáticamente nuevos correos electrónicos entrantes.\n",
    "\n",
    "4. Optimización de procesos: Si tienes un proceso o sistema complejo con múltiples variables y deseas optimizar un objetivo específico, el aprendizaje supervisado puede ayudarte a identificar patrones y relaciones que te permitan tomar decisiones más informadas. Por ejemplo, en la optimización de una cadena de suministro, puedes utilizar el aprendizaje supervisado para predecir la demanda futura y optimizar los niveles de inventario en consecuencia.\n",
    "\n",
    "En resumen, el aprendizaje supervisado se puede implementar en varias etapas de un proyecto, desde el análisis de datos hasta el desarrollo de modelos y la automatización de tareas. La clave está en identificar el problema y los objetivos específicos del proyecto para determinar si el aprendizaje supervisado es la técnica adecuada para abordarlos."
   ]
  },
  {
   "cell_type": "code",
   "execution_count": 1,
   "metadata": {},
   "outputs": [
    {
     "name": "stdout",
     "output_type": "stream",
     "text": [
      "Precisión del modelo: 0.5\n"
     ]
    }
   ],
   "source": [
    "import numpy as np\n",
    "from sklearn.linear_model import LogisticRegression\n",
    "from sklearn.metrics import accuracy_score\n",
    "\n",
    "# Generar datos aleatorios para el ejemplo\n",
    "np.random.seed(0)\n",
    "num_muestras = 1000\n",
    "num_caracteristicas = 5\n",
    "\n",
    "# Generar características aleatorias que sigan una distribución requerida\n",
    "X = np.random.normal(loc=0, scale=1, size=(num_muestras, num_caracteristicas))\n",
    "\n",
    "# Generar etiquetas de fraude (1) y no fraude (0)\n",
    "y = np.random.randint(2, size=num_muestras)\n",
    "\n",
    "# Dividir los datos en conjunto de entrenamiento y conjunto de prueba\n",
    "num_muestras_entrenamiento = int(0.8 * num_muestras)\n",
    "X_entrenamiento = X[:num_muestras_entrenamiento]\n",
    "y_entrenamiento = y[:num_muestras_entrenamiento]\n",
    "X_prueba = X[num_muestras_entrenamiento:]\n",
    "y_prueba = y[num_muestras_entrenamiento:]\n",
    "\n",
    "# Crear y entrenar el modelo de Regresión Logística\n",
    "modelo = LogisticRegression()\n",
    "modelo.fit(X_entrenamiento, y_entrenamiento)\n",
    "\n",
    "# Realizar predicciones en el conjunto de prueba\n",
    "predicciones = modelo.predict(X_prueba)\n",
    "\n",
    "# Calcular la precisión del modelo\n",
    "precision = accuracy_score(y_prueba, predicciones)\n",
    "\n",
    "print(\"Precisión del modelo:\", precision)"
   ]
  },
  {
   "attachments": {},
   "cell_type": "markdown",
   "metadata": {},
   "source": [
    "En este ejemplo, generamos datos aleatorios utilizando la función np.random.normal() para crear características que sigan una distribución normal estándar. Luego, generamos etiquetas aleatorias para representar casos de fraude (1) y no fraude (0).\n",
    "\n",
    "A continuación, dividimos los datos en un conjunto de entrenamiento y un conjunto de prueba, utilizando el 80% de los datos para entrenamiento y el 20% para evaluación.\n",
    "\n",
    "Luego, creamos un modelo de Regresión Logística utilizando LogisticRegression() de Scikit-learn y lo entrenamos con los datos de entrenamiento.\n",
    "\n",
    "Finalmente, realizamos predicciones en el conjunto de prueba y calculamos la precisión del modelo utilizando la métrica accuracy_score() de Scikit-learn.\n",
    "\n",
    "La precisión del modelo nos dará una idea de qué tan bueno es en la clasificación correcta de fraudes y no fraudes. Un valor de precisión cercano a 1 indica un modelo altamente preciso, mientras que un valor cercano a 0.5 indica una precisión baja.\n",
    "\n",
    "Recuerda que este ejemplo utiliza datos generados aleatoriamente, por lo que la precisión obtenida no reflejará un caso real. En un escenario real, utilizarías datos reales y aplicarías técnicas más sofisticadas para la detección de fraudes."
   ]
  },
  {
   "attachments": {},
   "cell_type": "markdown",
   "metadata": {},
   "source": [
    "Ahora implementamos otro método"
   ]
  },
  {
   "cell_type": "code",
   "execution_count": 2,
   "metadata": {},
   "outputs": [
    {
     "name": "stdout",
     "output_type": "stream",
     "text": [
      "Precisión del modelo Random Forest: 0.525\n"
     ]
    }
   ],
   "source": [
    "from sklearn.ensemble import RandomForestClassifier\n",
    "\n",
    "# Crear y entrenar el modelo de Random Forest\n",
    "modelo_rf = RandomForestClassifier()\n",
    "modelo_rf.fit(X_entrenamiento, y_entrenamiento)\n",
    "\n",
    "# Realizar predicciones en el conjunto de prueba\n",
    "predicciones_rf = modelo_rf.predict(X_prueba)\n",
    "\n",
    "# Calcular la precisión del modelo Random Forest\n",
    "precision_rf = accuracy_score(y_prueba, predicciones_rf)\n",
    "\n",
    "print(\"Precisión del modelo Random Forest:\", precision_rf)"
   ]
  },
  {
   "attachments": {},
   "cell_type": "markdown",
   "metadata": {},
   "source": [
    "En este ejemplo, creamos un modelo de Random Forest utilizando RandomForestClassifier() de Scikit-learn y lo entrenamos con los datos de entrenamiento X_entrenamiento y y_entrenamiento.\n",
    "\n",
    "Luego, realizamos predicciones en el conjunto de prueba X_prueba y evaluamos la precisión del modelo utilizando la métrica accuracy_score().\n",
    "\n",
    "El algoritmo Random Forest es un conjunto de árboles de decisión que trabajan de forma conjunta para realizar predicciones. Cada árbol se entrena con una muestra aleatoria del conjunto de datos y realiza una votación para decidir la clasificación final.\n",
    "\n",
    "La precisión del modelo Random Forest nos dará una idea de qué tan bien se desempeña en la clasificación de los casos de fraude y no fraude en comparación con el modelo de Regresión Logística.\n",
    "\n",
    "Recuerda que estos ejemplos utilizan datos generados aleatoriamente y no reflejan un caso real. En la práctica, deberías utilizar datos reales y ajustar los hiperparámetros del modelo para obtener un rendimiento óptimo."
   ]
  },
  {
   "attachments": {},
   "cell_type": "markdown",
   "metadata": {},
   "source": [
    "Para comparar el rendimiento de los modelos de Regresión Logística y Random Forest, podemos utilizar diferentes métricas y visualizaciones. Aquí tienes un ejemplo de cómo graficar las curvas de características operativas del receptor (ROC) y calcular el área bajo la curva (AUC) para ambos modelos:"
   ]
  },
  {
   "cell_type": "code",
   "execution_count": 3,
   "metadata": {},
   "outputs": [
    {
     "data": {
      "image/png": "[encoded data removed]",
      "text/plain": [
       "<Figure size 576x432 with 1 Axes>"
      ]
     },
     "metadata": {
      "needs_background": "light"
     },
     "output_type": "display_data"
    }
   ],
   "source": [
    "import matplotlib.pyplot as plt\n",
    "from sklearn.metrics import roc_curve, auc\n",
    "\n",
    "# Obtener las probabilidades de clase para Regresión Logística y Random Forest\n",
    "probas_lr = modelo.predict_proba(X_prueba)[:, 1]\n",
    "probas_rf = modelo_rf.predict_proba(X_prueba)[:, 1]\n",
    "\n",
    "# Calcular la tasa de verdaderos positivos y la tasa de falsos positivos para las curvas ROC\n",
    "fpr_lr, tpr_lr, _ = roc_curve(y_prueba, probas_lr)\n",
    "fpr_rf, tpr_rf, _ = roc_curve(y_prueba, probas_rf)\n",
    "\n",
    "# Calcular el área bajo la curva ROC (AUC)\n",
    "auc_lr = auc(fpr_lr, tpr_lr)\n",
    "auc_rf = auc(fpr_rf, tpr_rf)\n",
    "\n",
    "# Graficar las curvas ROC\n",
    "plt.figure(figsize=(8, 6))\n",
    "plt.plot(fpr_lr, tpr_lr, label='Regresión Logística (AUC = %0.2f)' % auc_lr)\n",
    "plt.plot(fpr_rf, tpr_rf, label='Random Forest (AUC = %0.2f)' % auc_rf)\n",
    "plt.plot([0, 1], [0, 1], 'k--')\n",
    "plt.xlim([0.0, 1.0])\n",
    "plt.ylim([0.0, 1.05])\n",
    "plt.xlabel('Tasa de Falsos Positivos')\n",
    "plt.ylabel('Tasa de Verdaderos Positivos')\n",
    "plt.title('Curva ROC')\n",
    "plt.legend(loc='lower right')\n",
    "plt.show()"
   ]
  },
  {
   "attachments": {},
   "cell_type": "markdown",
   "metadata": {},
   "source": [
    "En este ejemplo, utilizamos la función predict_proba() para obtener las probabilidades de clase de los modelos tanto para Regresión Logística (modelo) como para Random Forest (modelo_rf). Luego, calculamos las tasas de falsos positivos y verdaderos positivos utilizando roc_curve() y finalmente, calculamos el área bajo la curva ROC (auc()) para cada modelo.\n",
    "\n",
    "Después, graficamos las curvas ROC utilizando la biblioteca Matplotlib. La curva ROC muestra la relación entre la tasa de falsos positivos y la tasa de verdaderos positivos, y el área bajo la curva (AUC) es una métrica que resume el rendimiento global del modelo. Un valor de AUC cercano a 1 indica un modelo con un buen rendimiento de clasificación.\n",
    "\n",
    "Además de las curvas ROC y el AUC, existen otras métricas que puedes utilizar para evaluar el rendimiento de los modelos, como la precisión, el recall (sensibilidad) y la especificidad. Puedes calcular estas métricas utilizando funciones como precision_score(), recall_score() y specificity_score() de la biblioteca Scikit-learn.\n",
    "\n",
    "Recuerda que este ejemplo utiliza datos generados aleatoriamente y los resultados no reflejarán un caso real. En un escenario real, deberías utilizar datos reales y realizar una evaluación más completa y precisa de los modelos."
   ]
  },
  {
   "cell_type": "markdown",
   "metadata": {},
   "source": []
  },
  {
   "cell_type": "code",
   "execution_count": null,
   "metadata": {},
   "outputs": [],
   "source": [
    "3."
   ]
  }
 ],
 "metadata": {
  "kernelspec": {
   "display_name": "Python 3",
   "language": "python",
   "name": "python3"
  },
  "language_info": {
   "codemirror_mode": {
    "name": "ipython",
    "version": 3
   },
   "file_extension": ".py",
   "mimetype": "text/x-python",
   "name": "python",
   "nbconvert_exporter": "python",
   "pygments_lexer": "ipython3",
   "version": "3.10.4"
  },
  "orig_nbformat": 4
 },
 "nbformat": 4,
 "nbformat_minor": 2
}
