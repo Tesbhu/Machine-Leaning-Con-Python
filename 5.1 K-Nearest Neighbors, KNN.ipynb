{
 "cells": [
  {
   "attachments": {},
   "cell_type": "markdown",
   "metadata": {},
   "source": [
    "# <center> Clasificador de vecinos más cercanos (K-Nearest Neighbors, KNN)\n",
    "\n",
    "\n",
    "El algoritmo KNN se basa en el principio de que los puntos de datos similares tienden a estar cerca unos de otros en el espacio de características. Cuando se realiza una predicción para un nuevo punto de datos, el algoritmo KNN busca los K puntos más cercanos en función de una medida de distancia (por ejemplo, distancia euclidiana) y clasifica el nuevo punto según la mayoría de los votos de sus vecinos.\n",
    "\n",
    "A continuación, se presenta un resumen del proceso de clasificación del algoritmo KNN:\n",
    "\n",
    "1. Preparación de los datos de entrenamiento: El conjunto de datos de entrenamiento se utiliza para construir el modelo KNN. Cada punto de datos está representado por un vector de características y está etiquetado con una clase conocida.\n",
    "\n",
    "2. Elección del valor de K: Debes seleccionar un valor para K, que representa la cantidad de vecinos más cercanos a considerar para realizar la clasificación. El valor de K puede ser elegido de forma empírica o mediante técnicas de validación cruzada.\n",
    "\n",
    "3. Medida de distancia: Se selecciona una medida de distancia adecuada (por ejemplo, distancia euclidiana, distancia de Manhattan) para calcular la distancia entre el nuevo punto de datos y los puntos de entrenamiento.\n",
    "\n",
    "4. Búsqueda de los vecinos más cercanos: Se encuentran los K puntos de entrenamiento más cercanos al nuevo punto de datos utilizando la medida de distancia seleccionada.\n",
    "\n",
    "5. Clasificación por votación: Se realiza una votación entre los K vecinos más cercanos para determinar la clase del nuevo punto de datos. La clase más común entre los vecinos se considera la clase predicha.\n",
    "\n",
    "El algoritmo KNN es relativamente fácil de entender e implementar. Sin embargo, hay consideraciones a tener en cuenta, como la elección adecuada del valor de K, la normalización de características y la selección de la medida de distancia apropiada, que pueden afectar el rendimiento del modelo.\n",
    "\n",
    "Es importante destacar que el algoritmo KNN puede tener dificultades con conjuntos de datos grandes, ya que el cálculo de la distancia puede ser computacionalmente costoso. Además, es necesario tener en cuenta el problema de desequilibrio de clases y realizar un preprocesamiento adecuado de los datos.\n",
    "\n",
    "En resumen, el clasificador de vecinos más cercanos (KNN) es un algoritmo popular y versátil que se utiliza para la clasificación basada en la cercanía de los puntos de datos en el espacio de características.\n",
    "\n",
    "El clasificador de vecinos más cercanos (KNN) utiliza principalmente conceptos matemáticos relacionados con la medida de distancia y el cálculo de la mayoría de votos. Aquí están los elementos matemáticos clave involucrados en el algoritmo KNN:\n",
    "\n",
    "* Medida de distancia: Para determinar qué puntos son los vecinos más cercanos, se necesita una medida de distancia entre los puntos de datos. La distancia euclidiana es una de las medidas de distancia más comunes utilizadas en KNN, pero también se pueden utilizar otras medidas como la distancia de Manhattan, la distancia de Minkowski u otras medidas personalizadas según el problema. Estas medidas matemáticas capturan la diferencia y similitud entre los puntos de datos en función de sus características.\n",
    "\n",
    "* Cálculo de la mayoría de votos: Una vez que se encuentran los K vecinos más cercanos, se realiza una votación para determinar la clase a la que pertenece el punto de datos de interés. En la votación, se asigna un voto a cada vecino según su clase conocida. La clase con la mayoría de votos se considera la clase predicha para el nuevo punto de datos. Aquí, se utilizan conceptos básicos de recuento y determinación de la moda (el valor que aparece con mayor frecuencia) para calcular la mayoría de votos.\n",
    "\n",
    "Además de estos elementos, también se pueden aplicar conceptos matemáticos adicionales al trabajar con el algoritmo KNN, como la normalización de características para asegurar que todas las características tengan la misma escala y el cálculo de la distancia ponderada utilizando pesos para características específicas.\n",
    "\n",
    "----------------------------\n",
    "\n",
    "## Tipos de datos\n",
    "\n",
    "El método de clasificación K-Nearest Neighbors (KNN) es adecuado para una variedad de tipos de datos. Aquí tienes algunos ejemplos de tipos de datos para los que el algoritmo KNN suele ser conveniente:\n",
    "\n",
    "1. Datos numéricos: El KNN funciona bien con datos numéricos continuos. Puedes utilizar características numéricas como edad, altura, peso, temperatura, etc. En este caso, la distancia euclidiana es comúnmente utilizada para calcular la distancia entre los puntos.\n",
    "\n",
    "2. Datos categóricos: El KNN también puede manejar características categóricas, como colores, tipos de vehículos, géneros, etc. Sin embargo, es necesario realizar una codificación adecuada de las variables categóricas para representarlas como valores numéricos antes de aplicar el algoritmo KNN.\n",
    "\n",
    "3. Datos mixtos: KNN también puede funcionar con conjuntos de datos que contienen una combinación de características numéricas y categóricas. En estos casos, es importante aplicar la codificación adecuada a las variables categóricas y normalizar las características numéricas para que todas tengan la misma escala.\n",
    "\n",
    "4. Conjuntos de datos pequeños a medianos: El algoritmo KNN puede ser efectivo para conjuntos de datos que tienen un tamaño moderado. Dado que KNN realiza comparaciones directas entre los puntos de datos, el rendimiento del algoritmo puede deteriorarse cuando el número de puntos de datos es muy grande, ya que el tiempo de cálculo de las distancias puede volverse costoso.\n",
    "\n",
    "5. Problemas de clasificación binaria o multiclase: KNN se puede utilizar para problemas de clasificación con dos clases o más de dos clases. La mayoría de las implementaciones de KNN en bibliotecas como scikit-learn en Python admiten clasificación multiclase de manera nativa.\n",
    "\n",
    "6. Problemas con fronteras de decisión no lineales: KNN es especialmente útil cuando las fronteras de decisión entre clases no son lineales. Debido a que KNN clasifica puntos en función de la cercanía en el espacio de características, puede adaptarse a formas de fronteras de decisión más complejas.\n",
    "\n",
    "En general, el método KNN es bastante versátil y puede ser utilizado para una variedad de problemas de clasificación en diferentes dominios. Sin embargo, es importante tener en cuenta las características específicas de los datos, como la dimensionalidad, la escala y el ruido, y considerar el preprocesamiento adecuado para obtener resultados óptimos con KNN.\n",
    "\n",
    "----------------\n",
    "\n",
    "## Supervisado y No supervisado \n",
    "\n",
    "El método de clasificación K-Nearest Neighbors (KNN) es un algoritmo de aprendizaje automático supervisado. Esto significa que requiere un conjunto de datos de entrenamiento etiquetado, donde cada instancia de datos tiene una etiqueta o clase conocida.\n",
    "\n",
    "Durante la fase de entrenamiento, el algoritmo KNN utiliza el conjunto de datos de entrenamiento para construir un modelo basado en las características y las etiquetas asociadas a cada instancia. El modelo KNN no aprende explícitamente un conjunto de reglas o parámetros, sino que almacena los datos de entrenamiento en una estructura de datos especializada para realizar búsquedas eficientes de los vecinos más cercanos.\n",
    "\n",
    "Una vez que el modelo KNN está construido, se puede utilizar para realizar predicciones o clasificaciones en nuevos datos no etiquetados. Cuando se le proporciona un nuevo punto de datos, el algoritmo KNN busca los K vecinos más cercanos en el conjunto de entrenamiento y clasifica el nuevo punto según la mayoría de los votos de sus vecinos.\n",
    "\n",
    "Es importante destacar que, aunque el KNN es un algoritmo supervisado, también se puede utilizar de manera no supervisada para tareas de agrupamiento (clustering) si se omite la fase de etiquetado durante el entrenamiento. En este caso, el KNN se utiliza para encontrar grupos o clústeres basados en la cercanía de los puntos de datos en el espacio de características, sin tener en cuenta las etiquetas de clase. Sin embargo, la aplicación más común y típica del KNN es como un algoritmo de clasificación supervisado."
   ]
  },
  {
   "attachments": {},
   "cell_type": "markdown",
   "metadata": {},
   "source": [
    "## Ejemplo\n",
    "\n",
    "Supongamos que queremos clasificar animales en dos categorías: \"perros\" y \"gatos\". Tenemos un conjunto de entrenamiento con las siguientes características y etiquetas:\n",
    "\n",
    "```\n",
    "Características:\n",
    "- Pelo largo (L) o corto (S)\n",
    "- Tamaño pequeño (P) o grande (G)\n",
    "\n",
    "Etiquetas:\n",
    "- Perro (D)\n",
    "- Gato (C)\n",
    "\n",
    "Conjunto de entrenamiento:\n",
    "\n",
    "|   Características   | Etiqueta |\n",
    "|:------------------:|:--------:|\n",
    "|        L, P        |    D     |\n",
    "|        S, P        |    C     |\n",
    "|        L, G        |    D     |\n",
    "|        S, G        |    C     |\n",
    "```\n",
    "\n",
    "Ahora, supongamos que queremos clasificar un nuevo animal con las características \"pelo largo\" y \"tamaño pequeño\". Queremos utilizar el algoritmo KNN para hacer la clasificación.\n",
    "\n",
    "1. Preparación del conjunto de datos de entrenamiento: Organizamos los datos de entrenamiento en una estructura que contenga las características y las etiquetas asociadas.\n",
    "\n",
    "2. Elección del valor de K: En este caso, elijamos K = 3. Consideraremos los tres vecinos más cercanos para realizar la clasificación.\n",
    "\n",
    "3. Medida de distancia: Utilizamos la distancia euclidiana para calcular la distancia entre el nuevo punto de datos y los puntos de entrenamiento.\n",
    "\n",
    "4. Búsqueda de los vecinos más cercanos: Calculamos la distancia euclidiana entre el nuevo punto de datos y cada uno de los puntos de entrenamiento. Encontramos los tres puntos de entrenamiento más cercanos al nuevo punto de datos.\n",
    "\n",
    "5. Clasificación por votación: De los tres vecinos más cercanos, observamos sus etiquetas y contamos la cantidad de vecinos que pertenecen a cada clase. En este caso, si dos vecinos son gatos (C) y un vecino es un perro (D), clasificamos el nuevo punto de datos como un gato (C) basado en la mayoría de votos.\n",
    "\n",
    "La justificación para aplicar el método KNN en este ejemplo simple es que el algoritmo busca clasificar el nuevo animal en función de la similitud de sus características con las características de los animales en el conjunto de entrenamiento. Si los vecinos más cercanos al nuevo animal tienen características similares y están etiquetados como gatos, entonces es probable que el nuevo animal también sea un gato. El algoritmo KNN aprovecha la idea de que los puntos de datos similares tienden a pertenecer a la misma clase."
   ]
  },
  {
   "attachments": {},
   "cell_type": "markdown",
   "metadata": {},
   "source": [
    "## Librerias\n",
    "\n",
    "Existen varias bibliotecas de Python que puedes utilizar para implementar el algoritmo K-Nearest Neighbors (KNN) y trabajar con problemas de clasificación. Aquí hay dos de las bibliotecas más comunes y ampliamente utilizadas:\n",
    "\n",
    "1. scikit-learn (sklearn): scikit-learn es una biblioteca popular de aprendizaje automático en Python que proporciona una amplia gama de algoritmos y herramientas para tareas de aprendizaje automático. Incluye una implementación eficiente y fácil de usar del algoritmo KNN en su módulo `neighbors`. Puedes importar la clase `KNeighborsClassifier` de `sklearn.neighbors` para usar el KNN para clasificación. scikit-learn también proporciona funciones para la normalización de características, selección de características y evaluación del rendimiento del modelo.\n",
    "\n",
    "```python\n",
    "from sklearn.neighbors import KNeighborsClassifier\n",
    "\n",
    "# Crear una instancia del clasificador KNN\n",
    "knn = KNeighborsClassifier(n_neighbors=3)\n",
    "\n",
    "# Entrenar el modelo\n",
    "knn.fit(X_train, y_train)\n",
    "\n",
    "# Realizar predicciones\n",
    "predictions = knn.predict(X_test)\n",
    "```\n",
    "\n",
    "2. NumPy: NumPy es una biblioteca fundamental para la computación científica en Python. Proporciona una estructura de datos eficiente y potente llamada `ndarray` que se utiliza para almacenar y manipular matrices multidimensionales. Puedes utilizar NumPy para realizar cálculos numéricos y operaciones matemáticas requeridas por el algoritmo KNN, como el cálculo de distancias entre puntos de datos.\n",
    "\n",
    "```python\n",
    "import numpy as np\n",
    "\n",
    "# Calcular la distancia euclidiana entre dos puntos\n",
    "distance = np.linalg.norm(point1 - point2)\n",
    "```\n",
    "\n",
    "Estas dos bibliotecas son ampliamente utilizadas en el campo del aprendizaje automático y proporcionan una funcionalidad robusta y eficiente para implementar el algoritmo KNN y trabajar con problemas de clasificación. Además, hay otras bibliotecas útiles como Pandas para la manipulación y análisis de datos, y Matplotlib o Seaborn para la visualización de resultados."
   ]
  },
  {
   "attachments": {},
   "cell_type": "markdown",
   "metadata": {},
   "source": [
    "## Usamos scikit-learn\n",
    "\n",
    "Seguiremos usando esta libreria ya que es la más optimizada además puedes encontrar toda la documentación oficial de scikit-learn para el algoritmo K-Nearest Neighbors (KNN) en el siguiente enlace:\n",
    "\n",
    "Documentación de scikit-learn para KNN: https://scikit-learn.org/stable/modules/neighbors.html\n",
    "\n",
    "La documentación proporciona una descripción detallada del algoritmo KNN, así como información sobre los parámetros y opciones disponibles en la implementación de scikit-learn.\n",
    "\n",
    "Aquí tienes un ejemplo básico de cómo utilizar la clase `KNeighborsClassifier` de scikit-learn para el KNN en un problema de clasificación:\n",
    "\n",
    "```python\n",
    "from sklearn.neighbors import KNeighborsClassifier\n",
    "\n",
    "# Crear una instancia del clasificador KNN\n",
    "knn = KNeighborsClassifier(n_neighbors=3)\n",
    "\n",
    "# Entrenar el modelo\n",
    "knn.fit(X_train, y_train)\n",
    "\n",
    "# Realizar predicciones en el conjunto de prueba\n",
    "predictions = knn.predict(X_test)\n",
    "\n",
    "# Evaluar el rendimiento del modelo\n",
    "accuracy = knn.score(X_test, y_test)\n",
    "```\n",
    "\n",
    "En este ejemplo, `X_train` y `y_train` representan las características y las etiquetas del conjunto de entrenamiento, mientras que `X_test` es el conjunto de características del conjunto de prueba. Después de crear una instancia del clasificador KNN y ajustar el modelo utilizando el método `fit()`, puedes utilizar el método `predict()` para realizar predicciones en nuevos datos. El método `score()` devuelve la precisión del modelo en el conjunto de prueba.\n",
    "\n",
    "Además de la documentación oficial, también puedes encontrar ejemplos y tutoriales adicionales en la página de ejemplos de scikit-learn: https://scikit-learn.org/stable/auto_examples/index.html\n",
    "\n",
    "Recuerda que la documentación y los ejemplos de scikit-learn proporcionan información más detallada sobre los parámetros, opciones de configuración y estrategias avanzadas de uso del algoritmo KNN en scikit-learn."
   ]
  },
  {
   "attachments": {},
   "cell_type": "markdown",
   "metadata": {},
   "source": [
    "## En palabras simples\n",
    "\n",
    "El algoritmo K-NN (K Nearest Neighbors) o en español, K Vecinos Más Cercanos, trata de buscar los K puntos más cercanos a un punto concreto para poder inferir su valor. Este algoritmo pertenece al conjunto de técnicas del aprendizaje automático supervisado, y puede ser utilizado tanto para problemas de clasificación, como de regresión"
   ]
  },
  {
   "attachments": {},
   "cell_type": "markdown",
   "metadata": {},
   "source": [
    "## Ejemplo 0\n",
    "\n",
    "Esto lo veremos mejor con un ejemplo. Imaginemos que tenemos la altura y el peso de cinco personas, junto con su respectivo género (Hombre o mujer)."
   ]
  },
  {
   "cell_type": "code",
   "execution_count": 2,
   "metadata": {},
   "outputs": [
    {
     "data": {
      "image/png": "[encoded data removed]",
      "text/plain": [
       "<Figure size 432x288 with 1 Axes>"
      ]
     },
     "metadata": {
      "needs_background": "light"
     },
     "output_type": "display_data"
    }
   ],
   "source": [
    "import matplotlib.pyplot as plt\n",
    "\n",
    "# Datos de peso y altura\n",
    "peso = [62, 60, 65, 75, 80]  # Peso en kilogramos\n",
    "altura = [160, 165, 163, 175, 180]  # Altura en centímetros\n",
    "\n",
    "# Género correspondiente a cada dato (0 para mujeres, 1 para hombres)\n",
    "genero = [0, 0, 0, 1, 1]\n",
    "\n",
    "# Colores para representar el género (azul para mujeres, rojo para hombres)\n",
    "colores = ['blue' if g == 0 else 'red' for g in genero]\n",
    "\n",
    "# Crear gráfico de dispersión\n",
    "plt.scatter(peso, altura, c=colores)\n",
    "\n",
    "# Etiquetas de los ejes\n",
    "plt.xlabel('Peso (kg)')\n",
    "plt.ylabel('Altura (cm)')\n",
    "\n",
    "# Leyenda para los colores\n",
    "mujer_patch = plt.Line2D([], [], marker='o', color='blue', linestyle='', label='Mujer')\n",
    "hombre_patch = plt.Line2D([], [], marker='o', color='red', linestyle='', label='Hombre')\n",
    "plt.legend(handles=[mujer_patch, hombre_patch])\n",
    "\n",
    "# Mostrar el gráfico\n",
    "plt.show()"
   ]
  },
  {
   "attachments": {},
   "cell_type": "markdown",
   "metadata": {},
   "source": [
    "Si nos dieran datos de una sexta persona, pero no nos dieran su género, ¿Podríamos adivinarlo de alguna forma? Aquí es donde entra la fuerza del algoritmo KNN. Como tenemos 5 personas, de las que sí conocemos su género, cogeremos K igual a 3, para coger los 3 puntos (o vecinos) más cercanos a nuestro nuevo punto negro. ¿Por qué cogemos 3? Simplemente porque vamos a coger las categorías de los 3 elementos más cercanos y cogeremos la mayoría de estas categorías."
   ]
  },
  {
   "cell_type": "code",
   "execution_count": 3,
   "metadata": {},
   "outputs": [
    {
     "data": {
      "image/png": "[encoded data removed]",
      "text/plain": [
       "<Figure size 432x288 with 1 Axes>"
      ]
     },
     "metadata": {
      "needs_background": "light"
     },
     "output_type": "display_data"
    }
   ],
   "source": [
    "import matplotlib.pyplot as plt\n",
    "\n",
    "# Datos de peso y altura\n",
    "peso = [60, 65, 70, 75, 80, 72]  # Peso en kilogramos\n",
    "altura = [160, 165, 170, 175, 180, 168]  # Altura en centímetros\n",
    "\n",
    "# Género correspondiente a cada dato (0 para mujeres, 1 para hombres, -1 para dato desconocido)\n",
    "genero = [0, 0, 0, 1, 1, -1]\n",
    "\n",
    "# Colores para representar el género (azul para mujeres, rojo para hombres, negro para dato desconocido)\n",
    "colores = ['blue' if g == 0 else 'red' if g == 1 else 'black' for g in genero]\n",
    "\n",
    "# Crear gráfico de dispersión\n",
    "plt.scatter(peso, altura, c=colores)\n",
    "\n",
    "# Etiquetas de los ejes\n",
    "plt.xlabel('Peso (kg)')\n",
    "plt.ylabel('Altura (cm)')\n",
    "\n",
    "# Leyenda para los colores\n",
    "mujer_patch = plt.Line2D([], [], marker='o', color='blue', linestyle='', label='Mujer')\n",
    "hombre_patch = plt.Line2D([], [], marker='o', color='red', linestyle='', label='Hombre')\n",
    "desconocido_patch = plt.Line2D([], [], marker='o', color='black', linestyle='', label='Desconocido')\n",
    "plt.legend(handles=[mujer_patch, hombre_patch, desconocido_patch])\n",
    "\n",
    "# Mostrar el gráfico\n",
    "plt.show()"
   ]
  },
  {
   "attachments": {},
   "cell_type": "markdown",
   "metadata": {},
   "source": [
    "Se puede observar que los dos puntos más cercanos son mujeres, son de color azul, y que el tercer punto más cercano es una mujer, punto azul, por lo que si hacemos un voto por mayoría, tenemos 1 hombres y 2 mujer, por lo que diremos que el voto más frecuente es mujer, así que clasificaremos nuestro nuevo punto como hombre. ¡Y ya está!, ya hemos utilizado el algoritmo KNN para predecir la clase de un punto cuya categoría desconocíamos.\n",
    "\n",
    "Esto ha sido un ejemplo de KNN para problemas de clasificación, pero también podríamos haberlo utilizado para un problema de regresión. La diferencia sería que en vez de calcular la mayoría de la clase que conocemos, calcularíamos la media de los valores que queremos predecir"
   ]
  },
  {
   "attachments": {},
   "cell_type": "markdown",
   "metadata": {},
   "source": [
    "## Funcionamiento paso a paso del algoritmo k-NN\n",
    "1. **Calcular la distancia de todos los elementos con nuestro punto**\n",
    "\n",
    "Tenemos que haber definido la función que vamos a utilizar para calcular la distancia. Lo más normal si trabajas con valores numéricos es utilizar la distancia euclídea.\n",
    "\n",
    "2. **Ordenar las distancias de menor a mayor**\n",
    "\n",
    "Coloca todas las distancias de nuestro punto con el resto y ordénalos de menor a mayor, se hace así para saber cuáles son los más cercanos y los más alejados.\n",
    "\n",
    "3. **Seleccionar los K elementos más cercanos**\n",
    "\n",
    "Una vez se ha definido el valor de K, nos quedamos con esta cantidad de valores, con la menor distancia. Que representa los valores más parecidos a nuestro punto.\n",
    "\n",
    "4. **Obtenemos la predicción del algoritmo**\n",
    "En el caso de ser un problema de regresión, obtenemos la media de los K valores más cercanos, mientras que si fuera de clasificación, nos quedaríamos con la categoría más votada.\n",
    "\n",
    "### Lazy Learning\n",
    "\n",
    "El algoritmo KNN se encuentra bajo la categoría de métodos denominados Lazy Learning (Aprendizaje Vago). Se llaman así, ya que este tipo de algoritmos no entrena un modelo, es decir, no se optimizan unos pesos, sino que simplemente compara como de parecidos son los puntos que conocemos, con los puntos nuevos, para obtener así una predicción. Por lo que no es una red neuronal.\n",
    "\n",
    "### Distancia\n",
    "Hemos puesto un ejemplo sencillo de uso del algoritmo KNN, pero ¿qué pasaría si tuviéramos más de dos variables? Si tenemos más de dos variables, sería imposible decir a ojo qué puntos están más cerca de otros. Necesitaríamos para esto un método para poder calcular la distancia entre los puntos.\n",
    "\n",
    "### Distancia Euclídea o distancia euclidiana\n",
    "La distancia euclídea o distancia euclidiana es una de las distancias más básicas, pero a la vez, de las más utilizadas en el mundo del Machine Learning. Esta distancia está pensada solo para variables numéricas. Si quisiéramos utilizar una variable categórica, tendríamos que utilizar alguna técnica de encoding, u otra distancia que sí permita este tipo de variables.\n",
    "\n",
    "$$d_E(P_1,P_2) = \\sqrt{(x_2-x_1)^2+(y_2-y_1)^2}$$\n",
    "\n",
    "### Calculando la distancia euclidiana en Python\n",
    "Si necesitas calcular esta distancia euclídea en el lenguaje Python, aquí te dejo un ejemplo utilizando la librería **numpy**."
   ]
  },
  {
   "cell_type": "code",
   "execution_count": 5,
   "metadata": {},
   "outputs": [],
   "source": [
    "import numpy as np\n",
    "punto_1 = np.array([2, 4, 6])\n",
    "punto_2 = np.array([3, 5, 7])\n",
    "# Calculando la distancia euclidea\n",
    "distancia_euclidea = np.linalg.norm(punto_1 - punto_2)"
   ]
  },
  {
   "attachments": {},
   "cell_type": "markdown",
   "metadata": {},
   "source": [
    "### Escalar variables\n",
    "¿Tiene sentido calcular la distancia de variables que tengan rangos muy diferentes? La respuesta es que no, ya que si tuviéramos dos variables, una con un rango en 0 y 1, y otra con valores entre 0 y 1000, la segunda variable influiría mucho más que la primera en el cálculo de la distancia. Para solucionar este tipo de problemas, entra en juego la normalización de variables.\n",
    "\n",
    "Normalizar variables consiste simplemente en hacer que los rangos de valores que pueden tomar una serie de variables sea similar, para que como hemos dicho antes, no haya una que influya mucho más que otra."
   ]
  },
  {
   "attachments": {},
   "cell_type": "markdown",
   "metadata": {},
   "source": [
    "## Ejemplo 0.1\n",
    "\n",
    "Continuamos co un ejemplo sencillo de datos simulados.\n",
    "\n",
    "Primero cargamos todas las librerías necesarias. Entre ellas cargamos la clase KNeighborsClassifier, para poder utilizar el algoritmo KNN para problemas de clasificación.\n",
    "\n"
   ]
  },
  {
   "cell_type": "code",
   "execution_count": 6,
   "metadata": {},
   "outputs": [],
   "source": [
    "import matplotlib.pyplot as plt\n",
    "import pandas as pd\n",
    "import seaborn as sns\n",
    "from sklearn.neighbors import KNeighborsClassifier"
   ]
  },
  {
   "attachments": {},
   "cell_type": "markdown",
   "metadata": {},
   "source": [
    "Luego crearemos unos datos de prueba, de los que sabemos la categoría y creamos un punto nuevo, del que no sabemos su género y visualizamos todos los puntos."
   ]
  },
  {
   "cell_type": "code",
   "execution_count": 8,
   "metadata": {},
   "outputs": [
    {
     "data": {
      "image/png": "[encoded data removed]",
      "text/plain": [
       "<Figure size 432x288 with 1 Axes>"
      ]
     },
     "metadata": {
      "needs_background": "light"
     },
     "output_type": "display_data"
    }
   ],
   "source": [
    "data = {'Masa': [50, 80, 90, 45, 60],\n",
    "        'Altura': [1.48, 1.82, 1.85, 1.55, 1.60],\n",
    "        'Genero': ['m', 'h', 'h', 'm', 'm']} # OJO cambiamos a variables categoricas\n",
    "punto_nuevo = {'Masa': [70],\n",
    "               'Altura': [1.82]}\n",
    "df = pd.DataFrame(data)\n",
    "punto_nuevo = pd.DataFrame(punto_nuevo)\n",
    "# sns.scatterplot(df['Masa'], df['Altura'], hue=df['sex'])\n",
    "ax = plt.axes()\n",
    "ax.scatter(df.loc[df['Genero'] == 'h', 'Masa'],\n",
    "           df.loc[df['Genero'] == 'h', 'Altura'],\n",
    "           c=\"red\",\n",
    "           label=\"Hombre\")\n",
    "ax.scatter(df.loc[df['Genero'] == 'm', 'Masa'],\n",
    "           df.loc[df['Genero'] == 'm', 'Altura'],\n",
    "           c=\"blue\",\n",
    "           label=\"Mujer\")\n",
    "ax.scatter(punto_nuevo['Masa'],\n",
    "           punto_nuevo['Altura'],\n",
    "           c=\"black\")\n",
    "plt.xlabel(\"Masa\")\n",
    "plt.ylabel(\"Altura\")\n",
    "ax.legend()\n",
    "plt.show()"
   ]
  },
  {
   "attachments": {},
   "cell_type": "markdown",
   "metadata": {},
   "source": [
    "A continuación entrenamos el algoritmo KNN con los datos para los que tenemos etiquetas. Posteriormente predecimos la clase del punto para el que no tenemos etiqueta."
   ]
  },
  {
   "cell_type": "code",
   "execution_count": 10,
   "metadata": {},
   "outputs": [
    {
     "name": "stdout",
     "output_type": "stream",
     "text": [
      "['h']\n"
     ]
    },
    {
     "name": "stderr",
     "output_type": "stream",
     "text": [
      "c:\\Users\\tesbh\\AppData\\Local\\Programs\\Python\\Python310\\lib\\site-packages\\sklearn\\neighbors\\_classification.py:215: DataConversionWarning: A column-vector y was passed when a 1d array was expected. Please change the shape of y to (n_samples,), for example using ravel().\n",
      "  return self._fit(X, y)\n"
     ]
    }
   ],
   "source": [
    "from sklearn.neighbors import KNeighborsClassifier\n",
    "knn = KNeighborsClassifier(n_neighbors=3) # Valor por defecto\n",
    "X = df[['Masa', 'Altura']] # Variables dependientes\n",
    "y = df[['Genero']] # Variable objetivo\n",
    "knn.fit(X, y) # Se entrena\n",
    "prediccion = knn.predict(punto_nuevo)\n",
    "print(prediccion)"
   ]
  },
  {
   "attachments": {},
   "cell_type": "markdown",
   "metadata": {},
   "source": [
    "## Ejemplo 1\n",
    "\n",
    "El conjunto de datos Iris consiste en muestras de tres especies diferentes de flores Iris: Iris setosa, Iris versicolor e Iris virginica. Cada muestra tiene cuatro características: longitud y ancho del sépalo, y longitud y ancho del pétalo.\n",
    "\n",
    "El objetivo de la clasificación es predecir a qué especie de flor Iris pertenecen nuevas muestras en función de sus características.\n",
    "\n",
    "El algoritmo KNN se entrena utilizando un subconjunto de muestras del conjunto de datos Iris, donde se conocen las características y las etiquetas de las especies de flores correspondientes. Luego, se utiliza el modelo entrenado para realizar predicciones en un conjunto de prueba separado, donde solo se conocen las características y se desea predecir la especie de flor correspondiente.\n",
    "\n",
    "La precisión del modelo se calcula comparando las etiquetas verdaderas del conjunto de prueba con las etiquetas predichas por el algoritmo KNN. Esto proporciona una medida de qué tan bien se está desempeñando el modelo en la tarea de clasificación de las flores Iris."
   ]
  },
  {
   "cell_type": "code",
   "execution_count": null,
   "metadata": {},
   "outputs": [],
   "source": []
  },
  {
   "cell_type": "code",
   "execution_count": 1,
   "metadata": {},
   "outputs": [
    {
     "name": "stdout",
     "output_type": "stream",
     "text": [
      "Precisión del modelo: 1.0\n"
     ]
    }
   ],
   "source": [
    "from sklearn.neighbors import KNeighborsClassifier\n",
    "from sklearn.datasets import load_iris\n",
    "from sklearn.model_selection import train_test_split\n",
    "from sklearn.metrics import accuracy_score\n",
    "\n",
    "# Cargar el conjunto de datos de Iris\n",
    "iris = load_iris()\n",
    "\n",
    "# Dividir el conjunto de datos en características (X) y etiquetas (y)\n",
    "X = iris.data\n",
    "y = iris.target\n",
    "\n",
    "# Dividir los datos en conjuntos de entrenamiento y prueba\n",
    "X_train, X_test, y_train, y_test = train_test_split(X, y, test_size=0.2, random_state=42)\n",
    "\n",
    "# Crear una instancia del clasificador KNN con K=3\n",
    "knn = KNeighborsClassifier(n_neighbors=3)\n",
    "\n",
    "# Entrenar el modelo con los datos de entrenamiento\n",
    "knn.fit(X_train, y_train)\n",
    "\n",
    "# Realizar predicciones en los datos de prueba\n",
    "predictions = knn.predict(X_test)\n",
    "\n",
    "# Calcular la precisión del modelo\n",
    "accuracy = accuracy_score(y_test, predictions)\n",
    "\n",
    "# Imprimir la precisión del modelo\n",
    "print(\"Precisión del modelo:\", accuracy)\n"
   ]
  },
  {
   "attachments": {},
   "cell_type": "markdown",
   "metadata": {},
   "source": [
    "Vamos a utilizar el modelo KNN previamente entrenado en el ejemplo anterior para hacer predicciones en nuevos datos y evaluar la precisión del modelo. Además, crearemos una gráfica de dispersión para visualizar los resultados.\n",
    "\n",
    "Aquí tienes el código para realizar esto:"
   ]
  },
  {
   "cell_type": "code",
   "execution_count": 2,
   "metadata": {},
   "outputs": [
    {
     "data": {
      "image/png": "[encoded data removed]",
      "text/plain": [
       "<Figure size 432x288 with 1 Axes>"
      ]
     },
     "metadata": {
      "needs_background": "light"
     },
     "output_type": "display_data"
    },
    {
     "name": "stdout",
     "output_type": "stream",
     "text": [
      "Predicciones:\n",
      "Dato 1: [5.1 3.5 1.4 0.2] - Especie predicha: Setosa\n",
      "Dato 2: [6.2 2.9 4.3 1.3] - Especie predicha: Versicolor\n",
      "Dato 3: [7.7 3.  6.1 2.3] - Especie predicha: Virginica\n"
     ]
    }
   ],
   "source": [
    "import matplotlib.pyplot as plt\n",
    "import numpy as np\n",
    "\n",
    "# Datos nuevos para hacer predicciones\n",
    "new_data = np.array([[5.1, 3.5, 1.4, 0.2],\n",
    "                     [6.2, 2.9, 4.3, 1.3],\n",
    "                     [7.7, 3.0, 6.1, 2.3]])\n",
    "\n",
    "# Realizar predicciones en los datos nuevos\n",
    "new_predictions = knn.predict(new_data)\n",
    "\n",
    "# Etiquetas de especies correspondientes a las predicciones\n",
    "species = ['Setosa', 'Versicolor', 'Virginica']\n",
    "predicted_species = [species[prediction] for prediction in new_predictions]\n",
    "\n",
    "# Graficar los resultados\n",
    "plt.scatter(X[:, 0], X[:, 1], c=y, cmap='viridis', label='Datos de entrenamiento')\n",
    "plt.scatter(new_data[:, 0], new_data[:, 1], c=new_predictions, cmap='viridis', marker='x', s=100, label='Datos nuevos')\n",
    "plt.xlabel('Longitud del sépalo')\n",
    "plt.ylabel('Ancho del sépalo')\n",
    "plt.title('Predicciones del modelo KNN')\n",
    "plt.legend()\n",
    "plt.show()\n",
    "\n",
    "# Imprimir las predicciones\n",
    "print(\"Predicciones:\")\n",
    "for i in range(len(new_data)):\n",
    "    print(f\"Dato {i+1}: {new_data[i]} - Especie predicha: {predicted_species[i]}\")\n"
   ]
  },
  {
   "attachments": {},
   "cell_type": "markdown",
   "metadata": {},
   "source": [
    "En este código, hemos agregado una matriz new_data que contiene tres nuevas muestras de datos para hacer predicciones. Luego, utilizamos el modelo KNN previamente entrenado (knn) para hacer predicciones en estos nuevos datos utilizando el método predict().\n",
    "\n",
    "Después, asignamos etiquetas de especies correspondientes a las predicciones utilizando una lista species. Esto nos permitirá identificar las especies predichas en la gráfica.\n",
    "\n",
    "A continuación, utilizamos matplotlib para crear una gráfica de dispersión que muestra los datos de entrenamiento y los nuevos datos. Los puntos de datos de entrenamiento se representan con colores según su especie, mientras que los puntos de datos nuevos se representan con cruces (marcador 'x') y se les asigna un color según la especie predicha.\n",
    "\n",
    "Finalmente, imprimimos las predicciones para cada nuevo dato.\n",
    "\n",
    "Ejecuta este código para ver las predicciones en los nuevos datos y la gráfica de dispersión que muestra los resultados."
   ]
  },
  {
   "attachments": {},
   "cell_type": "markdown",
   "metadata": {},
   "source": [
    "## ¿Es eficiente?\n",
    "\n",
    "La eficiencia del método K-Nearest Neighbors (KNN) **puede evaluarse utilizando métricas de rendimiento, como la precisión, la exactitud, el recuerdo y la puntuación F1**. Estas métricas proporcionan información sobre qué tan bien se está desempeñando el modelo en la tarea de clasificación.\n",
    "\n",
    "En el ejemplo anterior, se calculó la precisión del modelo utilizando el conjunto de prueba. **La precisión es una métrica comúnmente utilizada que mide la proporción de predicciones correctas sobre el total de predicciones realizadas**. Una precisión alta indica que el modelo está clasificando correctamente la mayoría de los puntos de datos.\n",
    "\n",
    "Sin embargo, la elección de la métrica adecuada y el umbral de eficiencia depende del problema específico y del contexto en el que se esté utilizando el modelo. Por ejemplo, en algunos casos, es más importante minimizar los falsos positivos o los falsos negativos en lugar de maximizar la precisión general. Es importante comprender la naturaleza del problema y seleccionar las métricas apropiadas que se alineen con los objetivos y requisitos del proyecto.\n",
    "\n",
    "Además de las métricas de rendimiento, es importante considerar otros factores al evaluar la eficiencia de un modelo, como la complejidad computacional y los requisitos de tiempo y memoria. Algunos algoritmos pueden ser más eficientes que otros en términos de velocidad y uso de recursos. Por ejemplo, el algoritmo KNN puede ser computacionalmente costoso en comparación con otros algoritmos de clasificación, especialmente en conjuntos de datos grandes.\n",
    "\n",
    "En general, **no hay un umbral fijo para determinar cuándo un modelo es ideal o muy lejos de ser eficiente**. La evaluación de la eficiencia de un modelo es un proceso iterativo y depende de varios factores, como el problema, los datos, las métricas de rendimiento y las restricciones del proyecto. En algunos casos, puede ser necesario ajustar los hiperparámetros del modelo, probar diferentes algoritmos o utilizar técnicas de preprocesamiento de datos para mejorar la eficiencia del modelo."
   ]
  },
  {
   "attachments": {},
   "cell_type": "markdown",
   "metadata": {},
   "source": [
    "## Ejemplo 2\n",
    "Aquí te presento un ejemplo más simple utilizando un conjunto de datos simulado de calificaciones de un grupo de estudiantes. En este caso, utilizaremos el algoritmo K-Nearest Neighbors (KNN) para clasificar a los estudiantes en dos categorías: destacados (calificaciones mayores o iguales a 9) y normales (calificaciones menores a 9).\n",
    "\n",
    "Primero, generaremos un conjunto de datos de calificaciones de 100 estudiantes de forma aleatoria utilizando la librería NumPy:"
   ]
  },
  {
   "cell_type": "code",
   "execution_count": 4,
   "metadata": {},
   "outputs": [],
   "source": [
    "import numpy as np\n",
    "\n",
    "np.random.seed(1234)\n",
    "\n",
    "# Generamos un conjunto de datos de calificaciones aleatorias entre 0 y 10\n",
    "calificaciones = np.random.uniform(low=0.0, high=10.0, size=(100,))\n"
   ]
  },
  {
   "attachments": {},
   "cell_type": "markdown",
   "metadata": {},
   "source": [
    "A continuación, creamos un vector objetivo que asigna a cada estudiante en la lista como \"destacado\" si su calificación es mayor o igual a 9 y \"normal\" en caso contrario"
   ]
  },
  {
   "cell_type": "code",
   "execution_count": 5,
   "metadata": {},
   "outputs": [],
   "source": [
    "objetivo = np.where(calificaciones >= 9, 1, 0)\n"
   ]
  },
  {
   "attachments": {},
   "cell_type": "markdown",
   "metadata": {},
   "source": [
    "Una vez que hemos generado nuestro conjunto de datos, podemos utilizar la librería Scikit-learn para entrenar y evaluar nuestro modelo de KNN. Primero, dividimos nuestro conjunto de datos en dos conjuntos: uno para entrenamiento y otro para prueba:"
   ]
  },
  {
   "cell_type": "code",
   "execution_count": 6,
   "metadata": {},
   "outputs": [],
   "source": [
    "from sklearn.model_selection import train_test_split\n",
    "\n",
    "# Dividimos nuestro conjunto de datos en conjuntos de entrenamiento y prueba\n",
    "X_train, X_test, y_train, y_test = train_test_split(calificaciones.reshape(-1, 1), objetivo, test_size=0.25, random_state=42)\n"
   ]
  },
  {
   "attachments": {},
   "cell_type": "markdown",
   "metadata": {},
   "source": [
    "A continuación, creamos y ajustamos nuestro modelo de KNN utilizando el conjunto de entrenamiento:"
   ]
  },
  {
   "cell_type": "code",
   "execution_count": 7,
   "metadata": {},
   "outputs": [
    {
     "data": {
      "text/html": [
       "<style>#sk-container-id-1 {color: black;background-color: white;}#sk-container-id-1 pre{padding: 0;}#sk-container-id-1 div.sk-toggleable {background-color: white;}#sk-container-id-1 label.sk-toggleable__label {cursor: pointer;display: block;width: 100%;margin-bottom: 0;padding: 0.3em;box-sizing: border-box;text-align: center;}#sk-container-id-1 label.sk-toggleable__label-arrow:before {content: \"▸\";float: left;margin-right: 0.25em;color: #696969;}#sk-container-id-1 label.sk-toggleable__label-arrow:hover:before {color: black;}#sk-container-id-1 div.sk-estimator:hover label.sk-toggleable__label-arrow:before {color: black;}#sk-container-id-1 div.sk-toggleable__content {max-height: 0;max-width: 0;overflow: hidden;text-align: left;background-color: #f0f8ff;}#sk-container-id-1 div.sk-toggleable__content pre {margin: 0.2em;color: black;border-radius: 0.25em;background-color: #f0f8ff;}#sk-container-id-1 input.sk-toggleable__control:checked~div.sk-toggleable__content {max-height: 200px;max-width: 100%;overflow: auto;}#sk-container-id-1 input.sk-toggleable__control:checked~label.sk-toggleable__label-arrow:before {content: \"▾\";}#sk-container-id-1 div.sk-estimator input.sk-toggleable__control:checked~label.sk-toggleable__label {background-color: #d4ebff;}#sk-container-id-1 div.sk-label input.sk-toggleable__control:checked~label.sk-toggleable__label {background-color: #d4ebff;}#sk-container-id-1 input.sk-hidden--visually {border: 0;clip: rect(1px 1px 1px 1px);clip: rect(1px, 1px, 1px, 1px);height: 1px;margin: -1px;overflow: hidden;padding: 0;position: absolute;width: 1px;}#sk-container-id-1 div.sk-estimator {font-family: monospace;background-color: #f0f8ff;border: 1px dotted black;border-radius: 0.25em;box-sizing: border-box;margin-bottom: 0.5em;}#sk-container-id-1 div.sk-estimator:hover {background-color: #d4ebff;}#sk-container-id-1 div.sk-parallel-item::after {content: \"\";width: 100%;border-bottom: 1px solid gray;flex-grow: 1;}#sk-container-id-1 div.sk-label:hover label.sk-toggleable__label {background-color: #d4ebff;}#sk-container-id-1 div.sk-serial::before {content: \"\";position: absolute;border-left: 1px solid gray;box-sizing: border-box;top: 0;bottom: 0;left: 50%;z-index: 0;}#sk-container-id-1 div.sk-serial {display: flex;flex-direction: column;align-items: center;background-color: white;padding-right: 0.2em;padding-left: 0.2em;position: relative;}#sk-container-id-1 div.sk-item {position: relative;z-index: 1;}#sk-container-id-1 div.sk-parallel {display: flex;align-items: stretch;justify-content: center;background-color: white;position: relative;}#sk-container-id-1 div.sk-item::before, #sk-container-id-1 div.sk-parallel-item::before {content: \"\";position: absolute;border-left: 1px solid gray;box-sizing: border-box;top: 0;bottom: 0;left: 50%;z-index: -1;}#sk-container-id-1 div.sk-parallel-item {display: flex;flex-direction: column;z-index: 1;position: relative;background-color: white;}#sk-container-id-1 div.sk-parallel-item:first-child::after {align-self: flex-end;width: 50%;}#sk-container-id-1 div.sk-parallel-item:last-child::after {align-self: flex-start;width: 50%;}#sk-container-id-1 div.sk-parallel-item:only-child::after {width: 0;}#sk-container-id-1 div.sk-dashed-wrapped {border: 1px dashed gray;margin: 0 0.4em 0.5em 0.4em;box-sizing: border-box;padding-bottom: 0.4em;background-color: white;}#sk-container-id-1 div.sk-label label {font-family: monospace;font-weight: bold;display: inline-block;line-height: 1.2em;}#sk-container-id-1 div.sk-label-container {text-align: center;}#sk-container-id-1 div.sk-container {/* jupyter's `normalize.less` sets `[hidden] { display: none; }` but bootstrap.min.css set `[hidden] { display: none !important; }` so we also need the `!important` here to be able to override the default hidden behavior on the sphinx rendered scikit-learn.org. See: https://github.com/scikit-learn/scikit-learn/issues/21755 */display: inline-block !important;position: relative;}#sk-container-id-1 div.sk-text-repr-fallback {display: none;}</style><div id=\"sk-container-id-1\" class=\"sk-top-container\"><div class=\"sk-text-repr-fallback\"><pre>KNeighborsClassifier()</pre><b>In a Jupyter environment, please rerun this cell to show the HTML representation or trust the notebook. <br />On GitHub, the HTML representation is unable to render, please try loading this page with nbviewer.org.</b></div><div class=\"sk-container\" hidden><div class=\"sk-item\"><div class=\"sk-estimator sk-toggleable\"><input class=\"sk-toggleable__control sk-hidden--visually\" id=\"sk-estimator-id-1\" type=\"checkbox\" checked><label for=\"sk-estimator-id-1\" class=\"sk-toggleable__label sk-toggleable__label-arrow\">KNeighborsClassifier</label><div class=\"sk-toggleable__content\"><pre>KNeighborsClassifier()</pre></div></div></div></div></div>"
      ],
      "text/plain": [
       "KNeighborsClassifier()"
      ]
     },
     "execution_count": 7,
     "metadata": {},
     "output_type": "execute_result"
    }
   ],
   "source": [
    "from sklearn.neighbors import KNeighborsClassifier\n",
    "\n",
    "# Creamos nuestro modelo de KNN con 5 vecinos cercanos\n",
    "knn = KNeighborsClassifier(n_neighbors=5)\n",
    "\n",
    "# Ajustamos nuestro modelo a los datos de entrenamiento\n",
    "knn.fit(X_train, y_train)\n"
   ]
  },
  {
   "attachments": {},
   "cell_type": "markdown",
   "metadata": {},
   "source": [
    "Finalmente, podemos utilizar nuestro modelo para predecir la categoría de los estudiantes en el conjunto de prueba y calcular la precisión del modelo:"
   ]
  },
  {
   "cell_type": "code",
   "execution_count": 8,
   "metadata": {},
   "outputs": [
    {
     "name": "stdout",
     "output_type": "stream",
     "text": [
      "Precisión del modelo: 100.00%\n"
     ]
    }
   ],
   "source": [
    "from sklearn.metrics import accuracy_score\n",
    "\n",
    "# Realizamos predicciones sobre el conjunto de prueba\n",
    "y_pred = knn.predict(X_test)\n",
    "\n",
    "# Calculamos la precisión del modelo\n",
    "precision = accuracy_score(y_test, y_pred)\n",
    "\n",
    "print(\"Precisión del modelo: {:.2f}%\".format(precision * 100))\n"
   ]
  },
  {
   "attachments": {},
   "cell_type": "markdown",
   "metadata": {},
   "source": [
    "Para visualizar los resultados, podemos graficar la frontera de decisión de nuestro modelo, que es la región del espacio de características en la que se predice una categoría u otra. Para ello, podemos utilizar la función plot_decision_boundary que definimos anteriormente:"
   ]
  },
  {
   "cell_type": "code",
   "execution_count": 9,
   "metadata": {},
   "outputs": [
    {
     "data": {
      "image/png": "[encoded data removed]",
      "text/plain": [
       "<Figure size 432x288 with 2 Axes>"
      ]
     },
     "metadata": {
      "needs_background": "light"
     },
     "output_type": "display_data"
    }
   ],
   "source": [
    "import matplotlib.pyplot as plt\n",
    "\n",
    "# Graficar la distribución de las calificaciones\n",
    "plt.scatter(calificaciones, objetivo, c=objetivo, cmap='RdYlGn')\n",
    "plt.xlabel('Calificaciones')\n",
    "plt.ylabel('Categoría')\n",
    "plt.title('Clasificación de Estudiantes')\n",
    "plt.colorbar(ticks=[0, 1], label='Categoría')\n",
    "plt.show()\n"
   ]
  },
  {
   "attachments": {},
   "cell_type": "markdown",
   "metadata": {},
   "source": [
    "En esta gráfica, los puntos representan a los estudiantes, donde los estudiantes destacados (calificaciones mayores o iguales a 9) se muestran en verde (categoría 1) y los estudiantes normales (calificaciones menores a 9) se muestran en rojo (categoría 0).\n",
    "\n",
    "El modelo KNN aprendido clasificará a los estudiantes nuevos en función de sus calificaciones. Puedes utilizar la función knn.predict() para hacer predicciones en nuevos datos y asignar una categoría a cada estudiante.\n",
    "\n",
    "Recuerda que este es solo un ejemplo sencillo para ilustrar el uso del algoritmo KNN en la clasificación de estudiantes. Puedes ajustar los parámetros, explorar diferentes métricas y realizar mejoras adicionales según tus necesidades y requisitos específicos."
   ]
  },
  {
   "attachments": {},
   "cell_type": "markdown",
   "metadata": {},
   "source": [
    "## Como deben ser los datos\n",
    "\n",
    "En el caso del algoritmo K-Nearest Neighbors (KNN), no se requiere que los datos sigan una distribución particular. KNN es un algoritmo de aprendizaje basado en instancias que se basa en la similitud de los puntos de datos en el espacio de características.\n",
    "\n",
    "El algoritmo KNN clasifica los puntos de datos en función de la mayoría de votos de sus vecinos más cercanos. Por lo tanto, no hace suposiciones explícitas sobre la distribución de los datos en el espacio de características.\n",
    "\n",
    "Sin embargo, es importante tener en cuenta que KNN puede verse afectado por la presencia de características irrelevantes o ruidosas, ya que considera todos los puntos de datos en el espacio de características. Además, si los datos están muy dispersos o no tienen una estructura clara, KNN puede no ser el algoritmo más adecuado.\n",
    "\n",
    "Es recomendable realizar un análisis exploratorio de los datos antes de aplicar el algoritmo KNN para comprender mejor su distribución y evaluar si el enfoque de vecinos más cercanos es apropiado para el problema en cuestión."
   ]
  },
  {
   "attachments": {},
   "cell_type": "markdown",
   "metadata": {},
   "source": [
    "## Optimizar los hiperparámetros\n",
    "\n",
    "En el algoritmo K-Nearest Neighbors (KNN), hay varios hiperparámetros que se pueden optimizar para obtener un mejor rendimiento del modelo. Estos hiperparámetros incluyen:\n",
    "\n",
    "1. **Número de vecinos (n_neighbors)**: Especifica el número de vecinos más cercanos que se utilizarán para clasificar un punto de datos. Un número demasiado bajo puede hacer que el modelo sea sensible al ruido o a los valores atípicos, mientras que un número demasiado alto puede hacer que el modelo pierda sutilezas en los datos.\n",
    "\n",
    "2. **Métrica de distancia (metric)**: Determina la métrica utilizada para calcular la distancia entre los puntos de datos. Las opciones comunes incluyen la distancia euclidiana (por defecto) y la distancia de Manhattan. La elección de la métrica depende de la naturaleza de los datos y del problema específico.\n",
    "\n",
    "3. **Función de peso (weights)**: Determina cómo se ponderan los votos de los vecinos. Las opciones comunes incluyen 'uniform' (todos los vecinos tienen el mismo peso) y 'distance' (los vecinos más cercanos tienen un peso mayor).\n",
    "\n",
    "4. **Algoritmo de búsqueda (algorithm)**: Determina el algoritmo utilizado para buscar los vecinos más cercanos. Las opciones incluyen 'brute' (fuerza bruta), 'kd_tree' (árbol kd) y 'ball_tree' (árbol de bolas). La elección del algoritmo puede afectar el rendimiento y la eficiencia computacional del modelo.\n",
    "\n",
    "5. **Valor de p (p)**: Parámetro utilizado en la métrica de distancia. Para la distancia de Minkowski, que es una generalización que incluye la distancia euclidiana y la distancia de Manhattan, se puede especificar el valor de p. Por defecto, p=2, lo que corresponde a la distancia euclidiana.\n",
    "\n",
    "Estos son solo algunos de los hiperparámetros más comunes en el algoritmo KNN. La elección óptima de estos hiperparámetros depende del conjunto de datos y del problema en cuestión. Se pueden utilizar técnicas de búsqueda de hiperparámetros, como la validación cruzada o la búsqueda en cuadrícula, para encontrar los mejores valores de los hiperparámetros que maximicen el rendimiento del modelo."
   ]
  },
  {
   "attachments": {},
   "cell_type": "markdown",
   "metadata": {},
   "source": [
    "## Matriz de confusión\n",
    "\n",
    "La matriz de confusión es una herramienta útil para evaluar el rendimiento de un modelo de clasificación, incluido el algoritmo K-Nearest Neighbors (KNN). La matriz de confusión muestra la cantidad de verdaderos positivos (TP), verdaderos negativos (TN), falsos positivos (FP) y falsos negativos (FN) producidos por el modelo.\n",
    "\n",
    "En el contexto de KNN, la matriz de confusión puede ser calculada comparando las etiquetas verdaderas (ground truth) con las etiquetas predichas por el modelo. Dependiendo del problema de clasificación específico, se pueden utilizar diferentes métricas calculadas a partir de la matriz de confusión, como precisión, exactitud, recuerdo y puntuación F1.\n",
    "\n",
    "Scikit-learn proporciona una función llamada `confusion_matrix()` para calcular la matriz de confusión. Aquí tienes un ejemplo de cómo puedes usarlo:\n",
    "\n",
    "```python\n",
    "from sklearn.metrics import confusion_matrix\n",
    "\n",
    "# Calcula la matriz de confusión\n",
    "matriz_confusion = confusion_matrix(y_test, y_pred)\n",
    "\n",
    "print(\"Matriz de Confusión:\")\n",
    "print(matriz_confusion)\n",
    "```\n",
    "\n",
    "La matriz de confusión resultante tendrá el siguiente formato:\n",
    "\n",
    "```\n",
    "[[TN  FP]\n",
    " [FN  TP]]\n",
    "```\n",
    "\n",
    "Donde TN representa los verdaderos negativos, FP los falsos positivos, FN los falsos negativos y TP los verdaderos positivos.\n",
    "\n",
    "La matriz de confusión te proporciona información valiosa sobre cómo el modelo está clasificando las diferentes categorías y cómo se están distribuyendo los errores de clasificación. Esto te permite evaluar y ajustar el rendimiento del modelo según tus necesidades y requisitos específicos."
   ]
  },
  {
   "cell_type": "code",
   "execution_count": null,
   "metadata": {},
   "outputs": [],
   "source": []
  }
 ],
 "metadata": {
  "kernelspec": {
   "display_name": "Python 3",
   "language": "python",
   "name": "python3"
  },
  "language_info": {
   "codemirror_mode": {
    "name": "ipython",
    "version": 3
   },
   "file_extension": ".py",
   "mimetype": "text/x-python",
   "name": "python",
   "nbconvert_exporter": "python",
   "pygments_lexer": "ipython3",
   "version": "3.10.4"
  },
  "orig_nbformat": 4
 },
 "nbformat": 4,
 "nbformat_minor": 2
}
